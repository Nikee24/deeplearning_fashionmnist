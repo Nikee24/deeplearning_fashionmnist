{
  "nbformat": 4,
  "nbformat_minor": 0,
  "metadata": {
    "colab": {
      "name": "deeplearning_challenge.ipynb",
      "provenance": [],
      "collapsed_sections": []
    },
    "kernelspec": {
      "name": "python3",
      "display_name": "Python 3"
    }
  },
  "cells": [
    {
      "cell_type": "markdown",
      "metadata": {
        "id": "Hmqvvf9Mk8dO"
      },
      "source": [
        "# Challenge\n",
        "\n",
        "\n",
        "In this module, you learned the basics of deep learning and the fundamental architecture of artificial neural networks. During the examples in the checkpoints, you used a MNIST dataset. In this challenge, you'll work with another dataset: [fashion MNIST](https://github.com/zalandoresearch/fashion-mnist). Using this dataset, do the following:\n",
        "\n",
        "1. Preprocess your data so that you can feed it into ANN models.\n",
        "2. Split your data into training and test sets.\n",
        "3. Try different ANN models and train them on your training set. You can play with the following:\n",
        "  * 1. Number of layers\n",
        "  * 2. Activation functions of the layers\n",
        "  * 3. Number of neurons in the layers\n",
        "  * 4. Different batch sizes during training\n",
        "4. Compare your models' training scores and interpret your results.\n",
        "5. Evaluate how your models perform on your test set. Compare the results of your models.\n",
        "\n",
        "\n",
        "\n",
        "**Submit your solutions to the following tasks as a link to your Jupyter Notebook on GitHub. The grading team will get back to you with feedback shortly. Good luck!**\n",
        "\n",
        "\n",
        "\n",
        "# Checkpoint\n",
        "Submit your ideas or a link to your work here. This checkpoint will be reviewed by a member of the grading team. Once reviewed, you can find their notes here and in the feedback tab of your dashboard."
      ]
    },
    {
      "cell_type": "code",
      "metadata": {
        "id": "nLUAPowKlfz2"
      },
      "source": [
        "import warnings \n",
        "warnings.filterwarnings(\"ignore\")\n",
        "\n",
        "\n",
        "import matplotlib.pyplot as plt\n",
        "import seaborn as sns\n",
        "\n",
        "import tensorflow as tf\n",
        "from tensorflow import keras\n",
        "\n",
        "#for defining model and building ANN model:\n",
        "from tensorflow.keras.models import Sequential \n",
        "from tensorflow.keras.layers import Dense\n",
        "from tensorflow.keras import datasets, layers, models\n",
        "from tensorflow.keras import optimizers\n",
        "\n",
        "\n",
        "\n",
        "\n",
        "#splitting dataset into train and test sets\n",
        "#loading dataset\n",
        "(x_train, y_train), (x_test, y_test)=datasets.fashion_mnist.load_data()"
      ],
      "execution_count": null,
      "outputs": []
    },
    {
      "cell_type": "code",
      "metadata": {
        "colab": {
          "base_uri": "https://localhost:8080/"
        },
        "id": "6V8_72UomjeF",
        "outputId": "25379b4d-2a97-4773-bae9-3546832fc34d"
      },
      "source": [
        "y_train[:5] #1 dimensional "
      ],
      "execution_count": null,
      "outputs": [
        {
          "output_type": "execute_result",
          "data": {
            "text/plain": [
              "array([9, 0, 0, 3, 0], dtype=uint8)"
            ]
          },
          "metadata": {
            "tags": []
          },
          "execution_count": 2
        }
      ]
    },
    {
      "cell_type": "code",
      "metadata": {
        "colab": {
          "base_uri": "https://localhost:8080/"
        },
        "id": "Y18TAAVQmqQH",
        "outputId": "dc599bf8-0364-4bbf-9652-cc6e0374d585"
      },
      "source": [
        "y_train_shape=y_train.shape\n",
        "print(f\"shape of y_train: {y_train_shape}\")\n",
        "\n",
        "\n",
        "y_test_shape=y_test.shape\n",
        "print(f\"shape of y_test: {y_test_shape}\")\n",
        "\n",
        "x_train_shape=x_train.shape\n",
        "print(f\"\\nshape of x_train: {x_train_shape}\")\n",
        "\n",
        "x_test_shape=x_test.shape\n",
        "print(f\"shape of x_test:  {x_test_shape}\")"
      ],
      "execution_count": null,
      "outputs": [
        {
          "output_type": "stream",
          "text": [
            "shape of y_train: (60000,)\n",
            "shape of y_test: (10000,)\n",
            "\n",
            "shape of x_train: (60000, 28, 28)\n",
            "shape of x_test:  (10000, 28, 28)\n"
          ],
          "name": "stdout"
        }
      ]
    },
    {
      "cell_type": "markdown",
      "metadata": {
        "id": "CTUp9V6VXhoZ"
      },
      "source": [
        "* y_train and y_test are both one dimensional arrays. \n",
        "* x_train and x_test are both three dimensional arrays. "
      ]
    },
    {
      "cell_type": "markdown",
      "metadata": {
        "id": "77t07MqtnqUt"
      },
      "source": [
        "Fashion-MNIST is a dataset of Zalando's article images—consisting of a training set of 60,000 examples and a test set of 10,000 examples. Each example is a 28x28 grayscale image, associated with a label from 10 classes. We intend Fashion-MNIST to serve as a direct drop-in replacement for the original MNIST dataset for benchmarking machine learning algorithms. It shares the same image size and structure of training and testing splits."
      ]
    },
    {
      "cell_type": "code",
      "metadata": {
        "id": "8Wj-CsMZmDu_"
      },
      "source": [
        "input_dim=784 #28x28=784. 784 is the flattened version of the images. \n",
        "output_dim=nb_classes=10 #there are 10 classes total \n",
        "\n",
        "#There are 60,000 samples for the train set\n",
        "x_train=x_train.reshape(60000, input_dim)\n",
        "x_train=x_train.astype(\"float32\")\n",
        "\n",
        "#There are 10,000 samples for the test set\n",
        "x_test=x_test.reshape(10000, input_dim)\n",
        "x_test=x_test.astype(\"float32\")\n",
        "\n",
        "#normalizing each vector by dividing each element by 255\n",
        "#255 is the maximum value of the RGB color scale\n",
        "x_train /= 255\n",
        "x_test /= 255"
      ],
      "execution_count": null,
      "outputs": []
    },
    {
      "cell_type": "markdown",
      "metadata": {
        "id": "NtG1xjpEZba7"
      },
      "source": [
        "using one-hot encoding the target variable using `to_categorical()` function: "
      ]
    },
    {
      "cell_type": "code",
      "metadata": {
        "id": "5dsdk_QxZcuZ"
      },
      "source": [
        "from tensorflow.keras.utils import to_categorical\n",
        "\n",
        "\n",
        "y_train=to_categorical(y_train, nb_classes)\n",
        "y_test=to_categorical(y_test, nb_classes)"
      ],
      "execution_count": null,
      "outputs": []
    },
    {
      "cell_type": "code",
      "metadata": {
        "colab": {
          "base_uri": "https://localhost:8080/"
        },
        "id": "uNJ_wqoWZ3Mq",
        "outputId": "16798b1d-86b1-4127-f0cb-6b2beb28e416"
      },
      "source": [
        "#this is the size of each image; 784.\n",
        "#784 is the product of the 28 by 28 pixels \n",
        "x_train[0].shape"
      ],
      "execution_count": null,
      "outputs": [
        {
          "output_type": "execute_result",
          "data": {
            "text/plain": [
              "(784,)"
            ]
          },
          "metadata": {
            "tags": []
          },
          "execution_count": 6
        }
      ]
    },
    {
      "cell_type": "code",
      "metadata": {
        "colab": {
          "base_uri": "https://localhost:8080/",
          "height": 336
        },
        "id": "I_YZ8M0CaD69",
        "outputId": "e09a0419-1c41-4827-d5ee-3e9161383165"
      },
      "source": [
        "import matplotlib.pyplot as plt\n",
        "\n",
        "plt.figure(figsize=(20,5))\n",
        "\n",
        "plt.subplot(131)\n",
        "plt.imshow(x_train[0].reshape(28,28), cmap=\"gray\")\n",
        "plt.title(\"Label of the image: {}\".format(y_train[0]))\n",
        "\n",
        "plt.subplot(132)\n",
        "plt.imshow(x_train[1].reshape(28,28), cmap=\"gray\")\n",
        "plt.title(\"Label of the image: {}\".format(y_train[1]))\n",
        "\n",
        "plt.subplot(133)\n",
        "plt.imshow(x_train[2].reshape(28,28), cmap=\"gray\")\n",
        "plt.title(\"Label of the image: {}\".format(y_train[2]))\n",
        "\n",
        "plt.show()"
      ],
      "execution_count": null,
      "outputs": [
        {
          "output_type": "display_data",
          "data": {
            "image/png": "[encoded data removed]",
            "text/plain": [
              "<Figure size 1440x360 with 3 Axes>"
            ]
          },
          "metadata": {
            "tags": [],
            "needs_background": "light"
          }
        }
      ]
    },
    {
      "cell_type": "markdown",
      "metadata": {
        "id": "D-z2rxCibl3Y"
      },
      "source": [
        "<h1><font color=\"red\">3. Try different ANN models and train them on your training set. You can play with the following:</font color></h1>\n",
        "\n",
        "  * 1. Number of layers\n",
        "  * 2. Activation functions of the layers\n",
        "  * 3. Number of neurons in the layers\n",
        "  * 4. Different batch sizes during training"
      ]
    },
    {
      "cell_type": "markdown",
      "metadata": {
        "id": "UFJJeyFOH4qR"
      },
      "source": [
        "# Last Activation Function=\"Softmax\"\n",
        "# batch_size=1000\n",
        "# 7 total layers "
      ]
    },
    {
      "cell_type": "code",
      "metadata": {
        "id": "75yHN011aj6M"
      },
      "source": [
        "#defining first ann model\n",
        "ann_model1=Sequential()\n",
        "\n",
        "\n",
        "#first layer\n",
        "ann_model1.add(Dense(1024, input_shape=(784, ), activation=\"relu\"))\n",
        "\n",
        "#second layer\n",
        "ann_model1.add(Dense(512, activation=\"relu\"))\n",
        "\n",
        "#third layer\n",
        "ann_model1.add(Dense(256, activation=\"relu\"))\n",
        "\n",
        "#fourth layer\n",
        "ann_model1.add(Dense(128, activation=\"relu\"))\n",
        "\n",
        "#fifth layer\n",
        "ann_model1.add(Dense(64, activation=\"relu\"))\n",
        "\n",
        "#sixth layer\n",
        "ann_model1.add(Dense(32, activation=\"relu\"))\n",
        "\n",
        "\n",
        "#last layer; output layer.  \n",
        "#using 10 because there are 10 labels total\n",
        "ann_model1.add(Dense(10, activation=\"softmax\"))"
      ],
      "execution_count": null,
      "outputs": []
    },
    {
      "cell_type": "code",
      "metadata": {
        "colab": {
          "base_uri": "https://localhost:8080/"
        },
        "id": "1asg65ETdA2N",
        "outputId": "861d9484-d83c-4b59-9140-46c05dcf050a"
      },
      "source": [
        "#displaying structure of the ANN model using summary()\n",
        "ann_model1.summary()"
      ],
      "execution_count": null,
      "outputs": [
        {
          "output_type": "stream",
          "text": [
            "Model: \"sequential\"\n",
            "_________________________________________________________________\n",
            "Layer (type)                 Output Shape              Param #   \n",
            "=================================================================\n",
            "dense (Dense)                (None, 1024)              803840    \n",
            "_________________________________________________________________\n",
            "dense_1 (Dense)              (None, 512)               524800    \n",
            "_________________________________________________________________\n",
            "dense_2 (Dense)              (None, 256)               131328    \n",
            "_________________________________________________________________\n",
            "dense_3 (Dense)              (None, 128)               32896     \n",
            "_________________________________________________________________\n",
            "dense_4 (Dense)              (None, 64)                8256      \n",
            "_________________________________________________________________\n",
            "dense_5 (Dense)              (None, 32)                2080      \n",
            "_________________________________________________________________\n",
            "dense_6 (Dense)              (None, 10)                330       \n",
            "=================================================================\n",
            "Total params: 1,503,530\n",
            "Trainable params: 1,503,530\n",
            "Non-trainable params: 0\n",
            "_________________________________________________________________\n"
          ],
          "name": "stdout"
        }
      ]
    },
    {
      "cell_type": "code",
      "metadata": {
        "id": "blA7XmV6dbzo"
      },
      "source": [
        "sm_accuracy=[]\n",
        "sm_lr=[]"
      ],
      "execution_count": null,
      "outputs": []
    },
    {
      "cell_type": "code",
      "metadata": {
        "colab": {
          "base_uri": "https://localhost:8080/"
        },
        "id": "gRx2LhmaeRAz",
        "outputId": "f7dd95b2-e8b6-4641-8cdf-5a03b9d70912"
      },
      "source": [
        "#compiling the model\n",
        "sgd_0001=optimizers.SGD(lr=0.0001) #lr=learning rate\n",
        "\n",
        "\n",
        "ann_model1.compile(optimizer=sgd_0001, \n",
        "                   loss=\"categorical_crossentropy\",\n",
        "                   metrics=[\"accuracy\"])\n",
        "\n",
        "#training the model\n",
        "ann_model1.fit(x_train, y_train, batch_size=1000, epochs=20, verbose=1)"
      ],
      "execution_count": null,
      "outputs": [
        {
          "output_type": "stream",
          "text": [
            "Epoch 1/20\n",
            "60/60 [==============================] - 9s 136ms/step - loss: 2.3004 - accuracy: 0.1139\n",
            "Epoch 2/20\n",
            "60/60 [==============================] - 8s 136ms/step - loss: 2.2963 - accuracy: 0.1250\n",
            "Epoch 3/20\n",
            "60/60 [==============================] - 8s 135ms/step - loss: 2.2915 - accuracy: 0.1387\n",
            "Epoch 4/20\n",
            "60/60 [==============================] - 8s 136ms/step - loss: 2.2870 - accuracy: 0.1516\n",
            "Epoch 5/20\n",
            "60/60 [==============================] - 8s 136ms/step - loss: 2.2829 - accuracy: 0.1641\n",
            "Epoch 6/20\n",
            "60/60 [==============================] - 8s 136ms/step - loss: 2.2785 - accuracy: 0.1755\n",
            "Epoch 7/20\n",
            "60/60 [==============================] - 8s 136ms/step - loss: 2.2760 - accuracy: 0.1840\n",
            "Epoch 8/20\n",
            "60/60 [==============================] - 8s 135ms/step - loss: 2.2717 - accuracy: 0.1917\n",
            "Epoch 9/20\n",
            "60/60 [==============================] - 8s 135ms/step - loss: 2.2685 - accuracy: 0.2021\n",
            "Epoch 10/20\n",
            "60/60 [==============================] - 8s 137ms/step - loss: 2.2653 - accuracy: 0.2117\n",
            "Epoch 11/20\n",
            "60/60 [==============================] - 8s 136ms/step - loss: 2.2615 - accuracy: 0.2206\n",
            "Epoch 12/20\n",
            "60/60 [==============================] - 8s 136ms/step - loss: 2.2586 - accuracy: 0.2267\n",
            "Epoch 13/20\n",
            "60/60 [==============================] - 8s 136ms/step - loss: 2.2553 - accuracy: 0.2338\n",
            "Epoch 14/20\n",
            "60/60 [==============================] - 8s 136ms/step - loss: 2.2519 - accuracy: 0.2440\n",
            "Epoch 15/20\n",
            "60/60 [==============================] - 8s 136ms/step - loss: 2.2493 - accuracy: 0.2493\n",
            "Epoch 16/20\n",
            "60/60 [==============================] - 8s 137ms/step - loss: 2.2467 - accuracy: 0.2551\n",
            "Epoch 17/20\n",
            "60/60 [==============================] - 8s 138ms/step - loss: 2.2437 - accuracy: 0.2622\n",
            "Epoch 18/20\n",
            "60/60 [==============================] - 8s 136ms/step - loss: 2.2404 - accuracy: 0.2709\n",
            "Epoch 19/20\n",
            "60/60 [==============================] - 8s 136ms/step - loss: 2.2377 - accuracy: 0.2800\n",
            "Epoch 20/20\n",
            "60/60 [==============================] - 8s 135ms/step - loss: 2.2348 - accuracy: 0.2867\n"
          ],
          "name": "stdout"
        },
        {
          "output_type": "execute_result",
          "data": {
            "text/plain": [
              "<tensorflow.python.keras.callbacks.History at 0x7fae3ec5e240>"
            ]
          },
          "metadata": {
            "tags": []
          },
          "execution_count": 11
        }
      ]
    },
    {
      "cell_type": "code",
      "metadata": {
        "colab": {
          "base_uri": "https://localhost:8080/"
        },
        "id": "OaKy3B6ynVlD",
        "outputId": "77e077f1-f678-41f7-f99e-509b3454102a"
      },
      "source": [
        "score=ann_model1.evaluate(x_test, y_test, verbose=0)\n",
        "print(\"Test loss:\", score[0])\n",
        "print(\"Test accuracy\", score[1])\n",
        "\n",
        "sm_lr_0001=score[1] #accuracy score\n",
        "\n",
        "sm_accuracy.append(sm_lr_0001)\n",
        "sm_lr.append(\"0.0001\")"
      ],
      "execution_count": null,
      "outputs": [
        {
          "output_type": "stream",
          "text": [
            "Test loss: 2.232750654220581\n",
            "Test accuracy 0.2896000146865845\n"
          ],
          "name": "stdout"
        }
      ]
    },
    {
      "cell_type": "code",
      "metadata": {
        "colab": {
          "base_uri": "https://localhost:8080/"
        },
        "id": "1X-_x8TTlDUJ",
        "outputId": "8546ab5a-491e-4407-8eb7-a18fdbddcb8c"
      },
      "source": [
        "sgd_01=optimizers.SGD(lr=0.01)\n",
        "\n",
        "\n",
        "ann_model1.compile(optimizer=sgd_01, \n",
        "                   loss=\"categorical_crossentropy\",\n",
        "                   metrics=[\"accuracy\"])\n",
        "\n",
        "#training the model\n",
        "ann_model1.fit(x_train, y_train, batch_size=1000, epochs=20, verbose=1)"
      ],
      "execution_count": null,
      "outputs": [
        {
          "output_type": "stream",
          "text": [
            "Epoch 1/20\n",
            "60/60 [==============================] - 9s 136ms/step - loss: 2.1490 - accuracy: 0.3972\n",
            "Epoch 2/20\n",
            "60/60 [==============================] - 8s 139ms/step - loss: 1.6741 - accuracy: 0.5686\n",
            "Epoch 3/20\n",
            "60/60 [==============================] - 8s 138ms/step - loss: 1.1636 - accuracy: 0.6360\n",
            "Epoch 4/20\n",
            "60/60 [==============================] - 8s 136ms/step - loss: 0.9155 - accuracy: 0.6706\n",
            "Epoch 5/20\n",
            "60/60 [==============================] - 8s 137ms/step - loss: 0.7981 - accuracy: 0.7068\n",
            "Epoch 6/20\n",
            "60/60 [==============================] - 8s 137ms/step - loss: 0.7504 - accuracy: 0.7201\n",
            "Epoch 7/20\n",
            "60/60 [==============================] - 8s 135ms/step - loss: 0.7114 - accuracy: 0.7317\n",
            "Epoch 8/20\n",
            "60/60 [==============================] - 8s 136ms/step - loss: 0.6821 - accuracy: 0.7467\n",
            "Epoch 9/20\n",
            "60/60 [==============================] - 8s 136ms/step - loss: 0.6361 - accuracy: 0.7764\n",
            "Epoch 10/20\n",
            "60/60 [==============================] - 8s 136ms/step - loss: 0.6290 - accuracy: 0.7758\n",
            "Epoch 11/20\n",
            "60/60 [==============================] - 8s 136ms/step - loss: 0.6012 - accuracy: 0.7880\n",
            "Epoch 12/20\n",
            "60/60 [==============================] - 8s 136ms/step - loss: 0.5871 - accuracy: 0.7916\n",
            "Epoch 13/20\n",
            "60/60 [==============================] - 8s 136ms/step - loss: 0.5716 - accuracy: 0.7985\n",
            "Epoch 14/20\n",
            "60/60 [==============================] - 8s 136ms/step - loss: 0.5521 - accuracy: 0.8070\n",
            "Epoch 15/20\n",
            "60/60 [==============================] - 8s 136ms/step - loss: 0.5618 - accuracy: 0.8004\n",
            "Epoch 16/20\n",
            "60/60 [==============================] - 8s 136ms/step - loss: 0.5264 - accuracy: 0.8137\n",
            "Epoch 17/20\n",
            "60/60 [==============================] - 8s 137ms/step - loss: 0.5138 - accuracy: 0.8198\n",
            "Epoch 18/20\n",
            "60/60 [==============================] - 8s 136ms/step - loss: 0.5219 - accuracy: 0.8121\n",
            "Epoch 19/20\n",
            "60/60 [==============================] - 8s 135ms/step - loss: 0.4917 - accuracy: 0.8275\n",
            "Epoch 20/20\n",
            "60/60 [==============================] - 8s 137ms/step - loss: 0.5145 - accuracy: 0.8158\n"
          ],
          "name": "stdout"
        },
        {
          "output_type": "execute_result",
          "data": {
            "text/plain": [
              "<tensorflow.python.keras.callbacks.History at 0x7fae3c508588>"
            ]
          },
          "metadata": {
            "tags": []
          },
          "execution_count": 13
        }
      ]
    },
    {
      "cell_type": "code",
      "metadata": {
        "id": "E7XeLQ21V9fp",
        "colab": {
          "base_uri": "https://localhost:8080/"
        },
        "outputId": "180b8096-1761-46f6-d4f0-b4bcb1cc5371"
      },
      "source": [
        "score=ann_model1.evaluate(x_test, y_test, verbose=0)\n",
        "print(\"Test loss:\", score[0])\n",
        "print(\"Test accuracy\", score[1])\n",
        "\n",
        "\n",
        "sm_lr_01=score[1] #accuracy score\n",
        "\n",
        "sm_accuracy.append(sm_lr_01)\n",
        "sm_lr.append(\"0.01\")"
      ],
      "execution_count": null,
      "outputs": [
        {
          "output_type": "stream",
          "text": [
            "Test loss: 0.5024769902229309\n",
            "Test accuracy 0.8241999745368958\n"
          ],
          "name": "stdout"
        }
      ]
    },
    {
      "cell_type": "code",
      "metadata": {
        "colab": {
          "base_uri": "https://localhost:8080/"
        },
        "id": "pM4DTadJfBDi",
        "outputId": "28f89ac1-9ad0-4db3-8c20-44376883aa8f"
      },
      "source": [
        "sgd_1=optimizers.SGD(lr=1)\n",
        "\n",
        "ann_model1.compile(optimizer=sgd_1, \n",
        "                   loss=\"categorical_crossentropy\",\n",
        "                   metrics=[\"accuracy\"])\n",
        "\n",
        "#training the model\n",
        "ann_model1.fit(x_train, y_train, batch_size=1000, epochs=20, verbose=1)"
      ],
      "execution_count": null,
      "outputs": [
        {
          "output_type": "stream",
          "text": [
            "Epoch 1/20\n",
            "60/60 [==============================] - 9s 138ms/step - loss: nan - accuracy: 0.1568\n",
            "Epoch 2/20\n",
            "60/60 [==============================] - 8s 137ms/step - loss: nan - accuracy: 0.1001\n",
            "Epoch 3/20\n",
            "60/60 [==============================] - 8s 138ms/step - loss: nan - accuracy: 0.1000\n",
            "Epoch 4/20\n",
            "60/60 [==============================] - 8s 136ms/step - loss: nan - accuracy: 0.0986\n",
            "Epoch 5/20\n",
            "60/60 [==============================] - 8s 135ms/step - loss: nan - accuracy: 0.0998\n",
            "Epoch 6/20\n",
            "60/60 [==============================] - 8s 136ms/step - loss: nan - accuracy: 0.0997\n",
            "Epoch 7/20\n",
            "60/60 [==============================] - 8s 137ms/step - loss: nan - accuracy: 0.1004\n",
            "Epoch 8/20\n",
            "60/60 [==============================] - 8s 135ms/step - loss: nan - accuracy: 0.0987\n",
            "Epoch 9/20\n",
            "60/60 [==============================] - 8s 136ms/step - loss: nan - accuracy: 0.0996\n",
            "Epoch 10/20\n",
            "60/60 [==============================] - 8s 136ms/step - loss: nan - accuracy: 0.1017\n",
            "Epoch 11/20\n",
            "60/60 [==============================] - 8s 136ms/step - loss: nan - accuracy: 0.1015\n",
            "Epoch 12/20\n",
            "60/60 [==============================] - 8s 135ms/step - loss: nan - accuracy: 0.0993\n",
            "Epoch 13/20\n",
            "60/60 [==============================] - 8s 135ms/step - loss: nan - accuracy: 0.1005\n",
            "Epoch 14/20\n",
            "60/60 [==============================] - 8s 136ms/step - loss: nan - accuracy: 0.1016\n",
            "Epoch 15/20\n",
            "60/60 [==============================] - 8s 136ms/step - loss: nan - accuracy: 0.0992\n",
            "Epoch 16/20\n",
            "60/60 [==============================] - 8s 140ms/step - loss: nan - accuracy: 0.0999\n",
            "Epoch 17/20\n",
            "60/60 [==============================] - 8s 137ms/step - loss: nan - accuracy: 0.0987\n",
            "Epoch 18/20\n",
            "60/60 [==============================] - 8s 137ms/step - loss: nan - accuracy: 0.1009\n",
            "Epoch 19/20\n",
            "60/60 [==============================] - 8s 137ms/step - loss: nan - accuracy: 0.0991\n",
            "Epoch 20/20\n",
            "60/60 [==============================] - 8s 137ms/step - loss: nan - accuracy: 0.0998\n"
          ],
          "name": "stdout"
        },
        {
          "output_type": "execute_result",
          "data": {
            "text/plain": [
              "<tensorflow.python.keras.callbacks.History at 0x7fae3b3cd4a8>"
            ]
          },
          "metadata": {
            "tags": []
          },
          "execution_count": 15
        }
      ]
    },
    {
      "cell_type": "code",
      "metadata": {
        "colab": {
          "base_uri": "https://localhost:8080/"
        },
        "id": "vlJUbYARmhlE",
        "outputId": "213fab81-799b-4b8a-f141-5b336ee6e975"
      },
      "source": [
        "score=ann_model1.evaluate(x_test, y_test, verbose=0)\n",
        "print(\"Test loss:\", score[0])\n",
        "print(\"Test accuracy\", score[1])\n",
        "\n",
        "sm_lr_1=score[1] #accuracy score\n",
        "\n",
        "sm_accuracy.append(sm_lr_1)\n",
        "sm_lr.append(\"1\")"
      ],
      "execution_count": null,
      "outputs": [
        {
          "output_type": "stream",
          "text": [
            "Test loss: nan\n",
            "Test accuracy 0.10000000149011612\n"
          ],
          "name": "stdout"
        }
      ]
    },
    {
      "cell_type": "code",
      "metadata": {
        "colab": {
          "base_uri": "https://localhost:8080/"
        },
        "id": "q0girJxQenVi",
        "outputId": "490edac6-0c99-4182-bdd3-5641dc75bbbb"
      },
      "source": [
        "#for eligibility, rounding silhouette scores to 3 decimal places\n",
        "sm_accuracy_rounded = [round(x,3) for x in sm_accuracy] \n",
        "sm_accuracy_rounded"
      ],
      "execution_count": null,
      "outputs": [
        {
          "output_type": "execute_result",
          "data": {
            "text/plain": [
              "[0.29, 0.824, 0.1]"
            ]
          },
          "metadata": {
            "tags": []
          },
          "execution_count": 17
        }
      ]
    },
    {
      "cell_type": "code",
      "metadata": {
        "colab": {
          "base_uri": "https://localhost:8080/",
          "height": 519
        },
        "id": "4K_hkemUenpy",
        "outputId": "7eded069-1a92-406c-dce6-95f2a371b2c5"
      },
      "source": [
        "#using bar graph to display the accuracy scores \n",
        "\n",
        "\n",
        "plt.figure(figsize=(12,8))\n",
        "sns.set_style(\"white\")\n",
        "\n",
        "accuracy_scores=sm_accuracy_rounded\n",
        "\n",
        "plt.bar(sm_lr,accuracy_scores, color='blue')\n",
        "\n",
        "#labeling each bar with their cv score value. \n",
        "for i in range(len(accuracy_scores)):\n",
        "    plt.annotate(str(accuracy_scores[i]), xy=(sm_lr[i],accuracy_scores[i]), ha='center', \n",
        "                 fontsize=14,fontweight='normal', color='black') #va='bottom')\n",
        "    \n",
        "\n",
        "    \n",
        "\n",
        "plt.title(\"Accuracy Scores of varying learning rates using 1000 batch_size and last activation function softmax\", fontsize=12,weight='heavy')\n",
        "plt.xlabel('Learning Rate Value', fontsize=12, weight='heavy')\n",
        "plt.ylabel('Accuracy Scores', fontsize=12, weight='heavy')\n",
        "\n",
        "plt.xticks(rotation=0, horizontalalignment='right', \n",
        "           weight='normal', fontsize=12)\n",
        "plt.yticks(weight='normal', fontsize=12)\n",
        "\n",
        "plt.ylim(top=1) #setting y-axis limit value \n",
        "\n",
        "\n",
        "plt.show()"
      ],
      "execution_count": null,
      "outputs": [
        {
          "output_type": "display_data",
          "data": {
            "image/png": "[encoded data removed]",
            "text/plain": [
              "<Figure size 864x576 with 1 Axes>"
            ]
          },
          "metadata": {
            "tags": []
          }
        }
      ]
    },
    {
      "cell_type": "markdown",
      "metadata": {
        "id": "kxGXRgtRTC3_"
      },
      "source": [
        "# Last Activation Function=\"Softmax\"\n",
        "# batch_size=500\n",
        "# 7 total layers "
      ]
    },
    {
      "cell_type": "code",
      "metadata": {
        "id": "3z7UhEQmgvVU"
      },
      "source": [
        "#defining first ann model\n",
        "ann_model=Sequential()\n",
        "\n",
        "\n",
        "#first layer\n",
        "ann_model.add(Dense(1024, input_shape=(784, ), activation=\"relu\"))\n",
        "\n",
        "#second layer\n",
        "ann_model.add(Dense(512, activation=\"relu\"))\n",
        "\n",
        "#third layer\n",
        "ann_model.add(Dense(256, activation=\"relu\"))\n",
        "\n",
        "#fourth layer\n",
        "ann_model.add(Dense(128, activation=\"relu\"))\n",
        "\n",
        "#fifth layer\n",
        "ann_model.add(Dense(64, activation=\"relu\"))\n",
        "\n",
        "#sixth layer\n",
        "ann_model.add(Dense(32, activation=\"relu\"))\n",
        "\n",
        "\n",
        "#last layer; output layer.  \n",
        "#using 10 because there are 10 labels total\n",
        "ann_model.add(Dense(10, activation=\"softmax\"))"
      ],
      "execution_count": null,
      "outputs": []
    },
    {
      "cell_type": "code",
      "metadata": {
        "id": "Zq6-DpKugqEV"
      },
      "source": [
        "sm_accuracy2=[]\n",
        "sm_lr2=[]"
      ],
      "execution_count": null,
      "outputs": []
    },
    {
      "cell_type": "code",
      "metadata": {
        "colab": {
          "base_uri": "https://localhost:8080/"
        },
        "id": "tsLLTWH7TjwM",
        "outputId": "8709d573-9550-4a25-de58-c257b12192ea"
      },
      "source": [
        "#compiling the model\n",
        "sgd_0001=optimizers.SGD(lr=0.0001) #lr=learning rate\n",
        "\n",
        "\n",
        "ann_model.compile(optimizer=sgd_0001, \n",
        "                   loss=\"categorical_crossentropy\",\n",
        "                   metrics=[\"accuracy\"])\n",
        "\n",
        "#training the model\n",
        "ann_model.fit(x_train, y_train, batch_size=500, epochs=20, verbose=1)"
      ],
      "execution_count": null,
      "outputs": [
        {
          "output_type": "stream",
          "text": [
            "Epoch 1/20\n",
            "120/120 [==============================] - 10s 75ms/step - loss: 2.3193 - accuracy: 0.0777\n",
            "Epoch 2/20\n",
            "120/120 [==============================] - 9s 74ms/step - loss: 2.3123 - accuracy: 0.0847\n",
            "Epoch 3/20\n",
            "120/120 [==============================] - 9s 73ms/step - loss: 2.3058 - accuracy: 0.0920\n",
            "Epoch 4/20\n",
            "120/120 [==============================] - 9s 73ms/step - loss: 2.3001 - accuracy: 0.0953\n",
            "Epoch 5/20\n",
            "120/120 [==============================] - 9s 74ms/step - loss: 2.2935 - accuracy: 0.0988\n",
            "Epoch 6/20\n",
            "120/120 [==============================] - 9s 74ms/step - loss: 2.2887 - accuracy: 0.1023\n",
            "Epoch 7/20\n",
            "120/120 [==============================] - 9s 73ms/step - loss: 2.2831 - accuracy: 0.1040\n",
            "Epoch 8/20\n",
            "120/120 [==============================] - 9s 74ms/step - loss: 2.2768 - accuracy: 0.1089\n",
            "Epoch 9/20\n",
            "120/120 [==============================] - 9s 74ms/step - loss: 2.2726 - accuracy: 0.1104\n",
            "Epoch 10/20\n",
            "120/120 [==============================] - 9s 73ms/step - loss: 2.2678 - accuracy: 0.1115\n",
            "Epoch 11/20\n",
            "120/120 [==============================] - 9s 73ms/step - loss: 2.2621 - accuracy: 0.1132\n",
            "Epoch 12/20\n",
            "120/120 [==============================] - 9s 76ms/step - loss: 2.2559 - accuracy: 0.1175\n",
            "Epoch 13/20\n",
            "120/120 [==============================] - 9s 74ms/step - loss: 2.2517 - accuracy: 0.1192\n",
            "Epoch 14/20\n",
            "120/120 [==============================] - 9s 73ms/step - loss: 2.2454 - accuracy: 0.1229\n",
            "Epoch 15/20\n",
            "120/120 [==============================] - 9s 73ms/step - loss: 2.2396 - accuracy: 0.1289\n",
            "Epoch 16/20\n",
            "120/120 [==============================] - 9s 73ms/step - loss: 2.2347 - accuracy: 0.1331\n",
            "Epoch 17/20\n",
            "120/120 [==============================] - 9s 73ms/step - loss: 2.2283 - accuracy: 0.1460\n",
            "Epoch 18/20\n",
            "120/120 [==============================] - 9s 74ms/step - loss: 2.2226 - accuracy: 0.1588\n",
            "Epoch 19/20\n",
            "120/120 [==============================] - 9s 74ms/step - loss: 2.2182 - accuracy: 0.1727\n",
            "Epoch 20/20\n",
            "120/120 [==============================] - 9s 73ms/step - loss: 2.2118 - accuracy: 0.1891\n"
          ],
          "name": "stdout"
        },
        {
          "output_type": "execute_result",
          "data": {
            "text/plain": [
              "<tensorflow.python.keras.callbacks.History at 0x7fa1ee92f908>"
            ]
          },
          "metadata": {
            "tags": []
          },
          "execution_count": 10
        }
      ]
    },
    {
      "cell_type": "code",
      "metadata": {
        "colab": {
          "base_uri": "https://localhost:8080/"
        },
        "id": "4LFbYZc3Tj9O",
        "outputId": "50063c86-ad0e-4160-a7b9-74c32307fa47"
      },
      "source": [
        "score=ann_model.evaluate(x_test, y_test, verbose=0)\n",
        "print(\"Test loss:\", score[0])\n",
        "print(\"Test accuracy\", score[1])\n",
        "\n",
        "sm_lr_0001=score[1] #accuracy score\n",
        "\n",
        "sm_accuracy2.append(sm_lr_0001)\n",
        "sm_lr2.append(\"0.0001\")"
      ],
      "execution_count": null,
      "outputs": [
        {
          "output_type": "stream",
          "text": [
            "Test loss: 2.2088584899902344\n",
            "Test accuracy 0.2012999951839447\n"
          ],
          "name": "stdout"
        }
      ]
    },
    {
      "cell_type": "code",
      "metadata": {
        "colab": {
          "base_uri": "https://localhost:8080/"
        },
        "id": "mcIz3TnAUCaA",
        "outputId": "46f3b718-7357-46ae-9057-ad6445280a16"
      },
      "source": [
        "#compiling the model\n",
        "sgd_01=optimizers.SGD(lr=0.01) #lr=learning rate\n",
        "\n",
        "\n",
        "ann_model.compile(optimizer=sgd_01, \n",
        "                   loss=\"categorical_crossentropy\",\n",
        "                   metrics=[\"accuracy\"])\n",
        "\n",
        "#training the model\n",
        "ann_model.fit(x_train, y_train, batch_size=500, epochs=20, verbose=1)"
      ],
      "execution_count": null,
      "outputs": [
        {
          "output_type": "stream",
          "text": [
            "Epoch 1/20\n",
            "120/120 [==============================] - 9s 73ms/step - loss: 2.0276 - accuracy: 0.3460\n",
            "Epoch 2/20\n",
            "120/120 [==============================] - 9s 74ms/step - loss: 1.1628 - accuracy: 0.6454\n",
            "Epoch 3/20\n",
            "120/120 [==============================] - 9s 74ms/step - loss: 0.8052 - accuracy: 0.7222\n",
            "Epoch 4/20\n",
            "120/120 [==============================] - 9s 73ms/step - loss: 0.6986 - accuracy: 0.7635\n",
            "Epoch 5/20\n",
            "120/120 [==============================] - 9s 74ms/step - loss: 0.6405 - accuracy: 0.7842\n",
            "Epoch 6/20\n",
            "120/120 [==============================] - 9s 74ms/step - loss: 0.5771 - accuracy: 0.8048\n",
            "Epoch 7/20\n",
            "120/120 [==============================] - 9s 74ms/step - loss: 0.5475 - accuracy: 0.8107\n",
            "Epoch 8/20\n",
            "120/120 [==============================] - 9s 74ms/step - loss: 0.5308 - accuracy: 0.8152\n",
            "Epoch 9/20\n",
            "120/120 [==============================] - 9s 75ms/step - loss: 0.5025 - accuracy: 0.8276\n",
            "Epoch 10/20\n",
            "120/120 [==============================] - 9s 76ms/step - loss: 0.4850 - accuracy: 0.8308\n",
            "Epoch 11/20\n",
            "120/120 [==============================] - 9s 73ms/step - loss: 0.4888 - accuracy: 0.8319\n",
            "Epoch 12/20\n",
            "120/120 [==============================] - 9s 74ms/step - loss: 0.4636 - accuracy: 0.8388\n",
            "Epoch 13/20\n",
            "120/120 [==============================] - 9s 74ms/step - loss: 0.4591 - accuracy: 0.8375\n",
            "Epoch 14/20\n",
            "120/120 [==============================] - 9s 73ms/step - loss: 0.4526 - accuracy: 0.8400\n",
            "Epoch 15/20\n",
            "120/120 [==============================] - 9s 74ms/step - loss: 0.4421 - accuracy: 0.8468\n",
            "Epoch 16/20\n",
            "120/120 [==============================] - 9s 74ms/step - loss: 0.4265 - accuracy: 0.8512\n",
            "Epoch 17/20\n",
            "120/120 [==============================] - 9s 74ms/step - loss: 0.4327 - accuracy: 0.8498\n",
            "Epoch 18/20\n",
            "120/120 [==============================] - 9s 74ms/step - loss: 0.4230 - accuracy: 0.8513\n",
            "Epoch 19/20\n",
            "120/120 [==============================] - 9s 74ms/step - loss: 0.4200 - accuracy: 0.8529\n",
            "Epoch 20/20\n",
            "120/120 [==============================] - 9s 76ms/step - loss: 0.4118 - accuracy: 0.8560\n"
          ],
          "name": "stdout"
        },
        {
          "output_type": "execute_result",
          "data": {
            "text/plain": [
              "<tensorflow.python.keras.callbacks.History at 0x7fa1e81c0160>"
            ]
          },
          "metadata": {
            "tags": []
          },
          "execution_count": 12
        }
      ]
    },
    {
      "cell_type": "code",
      "metadata": {
        "colab": {
          "base_uri": "https://localhost:8080/"
        },
        "id": "odCu3cb6TkFC",
        "outputId": "03d4d40c-b48f-4201-ada7-eb09e344b824"
      },
      "source": [
        "score=ann_model.evaluate(x_test, y_test, verbose=0)\n",
        "print(\"Test loss:\", score[0])\n",
        "print(\"Test accuracy\", score[1])\n",
        "\n",
        "\n",
        "sm_lr_01=score[1] #accuracy score\n",
        "\n",
        "sm_accuracy2.append(sm_lr_01)\n",
        "sm_lr2.append(\"0.01\")"
      ],
      "execution_count": null,
      "outputs": [
        {
          "output_type": "stream",
          "text": [
            "Test loss: 0.4332515001296997\n",
            "Test accuracy 0.8493000268936157\n"
          ],
          "name": "stdout"
        }
      ]
    },
    {
      "cell_type": "code",
      "metadata": {
        "colab": {
          "base_uri": "https://localhost:8080/"
        },
        "id": "d1llAZ_ZTkLa",
        "outputId": "e8cb8a06-dd3a-4a5d-fa72-2069297b0f4d"
      },
      "source": [
        "#compiling the model\n",
        "sgd_1=optimizers.SGD(lr=1) #lr=learning rate\n",
        "\n",
        "\n",
        "ann_model.compile(optimizer=sgd_1, \n",
        "                   loss=\"categorical_crossentropy\",\n",
        "                   metrics=[\"accuracy\"])\n",
        "\n",
        "#training the model\n",
        "ann_model.fit(x_train, y_train, batch_size=500, epochs=20, verbose=1)"
      ],
      "execution_count": null,
      "outputs": [
        {
          "output_type": "stream",
          "text": [
            "Epoch 1/20\n",
            "120/120 [==============================] - 9s 73ms/step - loss: nan - accuracy: 0.1330\n",
            "Epoch 2/20\n",
            "120/120 [==============================] - 9s 73ms/step - loss: nan - accuracy: 0.0982\n",
            "Epoch 3/20\n",
            "120/120 [==============================] - 9s 73ms/step - loss: nan - accuracy: 0.1009\n",
            "Epoch 4/20\n",
            "120/120 [==============================] - 9s 73ms/step - loss: nan - accuracy: 0.0984\n",
            "Epoch 5/20\n",
            "120/120 [==============================] - 9s 74ms/step - loss: nan - accuracy: 0.0991\n",
            "Epoch 6/20\n",
            "120/120 [==============================] - 9s 73ms/step - loss: nan - accuracy: 0.1006\n",
            "Epoch 7/20\n",
            "120/120 [==============================] - 9s 74ms/step - loss: nan - accuracy: 0.1022\n",
            "Epoch 8/20\n",
            "120/120 [==============================] - 9s 73ms/step - loss: nan - accuracy: 0.0993\n",
            "Epoch 9/20\n",
            "120/120 [==============================] - 9s 73ms/step - loss: nan - accuracy: 0.0995\n",
            "Epoch 10/20\n",
            "120/120 [==============================] - 9s 73ms/step - loss: nan - accuracy: 0.1021\n",
            "Epoch 11/20\n",
            "120/120 [==============================] - 9s 73ms/step - loss: nan - accuracy: 0.1016\n",
            "Epoch 12/20\n",
            "120/120 [==============================] - 9s 73ms/step - loss: nan - accuracy: 0.1005\n",
            "Epoch 13/20\n",
            "120/120 [==============================] - 9s 74ms/step - loss: nan - accuracy: 0.0998\n",
            "Epoch 14/20\n",
            "120/120 [==============================] - 9s 73ms/step - loss: nan - accuracy: 0.1006\n",
            "Epoch 15/20\n",
            "120/120 [==============================] - 9s 73ms/step - loss: nan - accuracy: 0.1004\n",
            "Epoch 16/20\n",
            "120/120 [==============================] - 9s 73ms/step - loss: nan - accuracy: 0.0996\n",
            "Epoch 17/20\n",
            "120/120 [==============================] - 9s 74ms/step - loss: nan - accuracy: 0.0999\n",
            "Epoch 18/20\n",
            "120/120 [==============================] - 9s 73ms/step - loss: nan - accuracy: 0.1007\n",
            "Epoch 19/20\n",
            "120/120 [==============================] - 9s 73ms/step - loss: nan - accuracy: 0.0987\n",
            "Epoch 20/20\n",
            "120/120 [==============================] - 9s 73ms/step - loss: nan - accuracy: 0.0994\n"
          ],
          "name": "stdout"
        },
        {
          "output_type": "execute_result",
          "data": {
            "text/plain": [
              "<tensorflow.python.keras.callbacks.History at 0x7fa1e8119828>"
            ]
          },
          "metadata": {
            "tags": []
          },
          "execution_count": 14
        }
      ]
    },
    {
      "cell_type": "code",
      "metadata": {
        "colab": {
          "base_uri": "https://localhost:8080/"
        },
        "id": "fsHOq6lrTkRt",
        "outputId": "98be4e94-4362-4017-9f98-b35d4ab8429c"
      },
      "source": [
        "score=ann_model.evaluate(x_test, y_test, verbose=0)\n",
        "print(\"Test loss:\", score[0])\n",
        "print(\"Test accuracy\", score[1])\n",
        "\n",
        "\n",
        "sm_lr_1=score[1] #accuracy score\n",
        "\n",
        "sm_accuracy2.append(sm_lr_1)\n",
        "sm_lr2.append(\"1\")"
      ],
      "execution_count": null,
      "outputs": [
        {
          "output_type": "stream",
          "text": [
            "Test loss: nan\n",
            "Test accuracy 0.10000000149011612\n"
          ],
          "name": "stdout"
        }
      ]
    },
    {
      "cell_type": "code",
      "metadata": {
        "colab": {
          "base_uri": "https://localhost:8080/"
        },
        "id": "7a-9XA0wiR5a",
        "outputId": "183fefcd-9846-423d-93a0-649c0617bf45"
      },
      "source": [
        "#for eligibility, rounding silhouette scores to 3 decimal places\n",
        "sm_accuracy_rounded = [round(x,3) for x in sm_accuracy2] \n",
        "sm_accuracy_rounded"
      ],
      "execution_count": null,
      "outputs": [
        {
          "output_type": "execute_result",
          "data": {
            "text/plain": [
              "[0.201, 0.849, 0.1]"
            ]
          },
          "metadata": {
            "tags": []
          },
          "execution_count": 16
        }
      ]
    },
    {
      "cell_type": "code",
      "metadata": {
        "colab": {
          "base_uri": "https://localhost:8080/",
          "height": 519
        },
        "id": "--X53SW0iSNy",
        "outputId": "65d0c456-2758-48cc-b8e6-c408ba0eda33"
      },
      "source": [
        "#using bar graph to display the accuracy scores \n",
        "\n",
        "\n",
        "plt.figure(figsize=(12,8))\n",
        "sns.set_style(\"white\")\n",
        "\n",
        "accuracy_scores=sm_accuracy_rounded\n",
        "\n",
        "plt.bar(sm_lr2,accuracy_scores, color='blue')\n",
        "\n",
        "#labeling each bar with their cv score value. \n",
        "for i in range(len(accuracy_scores)):\n",
        "    plt.annotate(str(accuracy_scores[i]), xy=(sm_lr2[i],accuracy_scores[i]), ha='center', \n",
        "                 fontsize=14,fontweight='normal', color='black') #va='bottom')\n",
        "    \n",
        "\n",
        "    \n",
        "\n",
        "plt.title(\"Accuracy Scores of varying learning rates using 500 batch_size and last activation function softmax\", fontsize=12,weight='heavy')\n",
        "plt.xlabel('Learning Rate Value', fontsize=12, weight='heavy')\n",
        "plt.ylabel('Accuracy Scores', fontsize=12, weight='heavy')\n",
        "\n",
        "plt.xticks(rotation=0, horizontalalignment='right', \n",
        "           weight='normal', fontsize=12)\n",
        "plt.yticks(weight='normal', fontsize=12)\n",
        "\n",
        "plt.ylim(top=1) #setting y-axis limit value \n",
        "\n",
        "\n",
        "plt.show()"
      ],
      "execution_count": null,
      "outputs": [
        {
          "output_type": "display_data",
          "data": {
            "image/png": "[encoded data removed]",
            "text/plain": [
              "<Figure size 864x576 with 1 Axes>"
            ]
          },
          "metadata": {
            "tags": []
          }
        }
      ]
    },
    {
      "cell_type": "markdown",
      "metadata": {
        "id": "sO5Tirs4Z-7W"
      },
      "source": [
        "# Last Activation Function=\"Softmax\"\n",
        "# batch_size=1000\n",
        "# 4 total layers "
      ]
    },
    {
      "cell_type": "code",
      "metadata": {
        "id": "rOrgGqlEi-6T"
      },
      "source": [
        "sm_accuracy3=[]\n",
        "sm_lr3=[]"
      ],
      "execution_count": null,
      "outputs": []
    },
    {
      "cell_type": "code",
      "metadata": {
        "id": "x7_TLgziZ-HS"
      },
      "source": [
        "#defining ann model\n",
        "ann_model=Sequential()\n",
        "\n",
        "\n",
        "#first layer\n",
        "ann_model.add(Dense(1024, input_shape=(784, ), activation=\"relu\"))\n",
        "\n",
        "#second layer\n",
        "ann_model.add(Dense(512, activation=\"relu\"))\n",
        "\n",
        "#third layer\n",
        "ann_model.add(Dense(64, activation=\"relu\"))\n",
        "\n",
        "#last layer; output layer.  \n",
        "#using 10 because there are 10 labels total\n",
        "ann_model.add(Dense(10, activation=\"softmax\"))"
      ],
      "execution_count": null,
      "outputs": []
    },
    {
      "cell_type": "code",
      "metadata": {
        "colab": {
          "base_uri": "https://localhost:8080/"
        },
        "id": "Wki11KpyZ-Wj",
        "outputId": "5f2d9b94-3fd7-4d4a-e3d0-eab168f78f27"
      },
      "source": [
        "#compiling the model\n",
        "sgd_0001=optimizers.SGD(lr=0.0001) #lr=learning rate\n",
        "\n",
        "\n",
        "ann_model.compile(optimizer=sgd_0001, \n",
        "                   loss=\"categorical_crossentropy\",\n",
        "                   metrics=[\"accuracy\"])\n",
        "\n",
        "#training the model\n",
        "ann_model.fit(x_train, y_train, batch_size=1000, epochs=20, verbose=1)"
      ],
      "execution_count": null,
      "outputs": [
        {
          "output_type": "stream",
          "text": [
            "Epoch 1/20\n",
            "60/60 [==============================] - 8s 120ms/step - loss: 2.3627 - accuracy: 0.1571\n",
            "Epoch 2/20\n",
            "60/60 [==============================] - 7s 120ms/step - loss: 2.3455 - accuracy: 0.1595\n",
            "Epoch 3/20\n",
            "60/60 [==============================] - 7s 121ms/step - loss: 2.3264 - accuracy: 0.1682\n",
            "Epoch 4/20\n",
            "60/60 [==============================] - 7s 120ms/step - loss: 2.3073 - accuracy: 0.1768\n",
            "Epoch 5/20\n",
            "60/60 [==============================] - 7s 120ms/step - loss: 2.2937 - accuracy: 0.1742\n",
            "Epoch 6/20\n",
            "60/60 [==============================] - 7s 120ms/step - loss: 2.2758 - accuracy: 0.1836\n",
            "Epoch 7/20\n",
            "60/60 [==============================] - 7s 119ms/step - loss: 2.2602 - accuracy: 0.1866\n",
            "Epoch 8/20\n",
            "60/60 [==============================] - 7s 120ms/step - loss: 2.2444 - accuracy: 0.1861\n",
            "Epoch 9/20\n",
            "60/60 [==============================] - 7s 120ms/step - loss: 2.2296 - accuracy: 0.1884\n",
            "Epoch 10/20\n",
            "60/60 [==============================] - 7s 119ms/step - loss: 2.2150 - accuracy: 0.1919\n",
            "Epoch 11/20\n",
            "60/60 [==============================] - 7s 121ms/step - loss: 2.2019 - accuracy: 0.1926\n",
            "Epoch 12/20\n",
            "60/60 [==============================] - 7s 120ms/step - loss: 2.1896 - accuracy: 0.1931\n",
            "Epoch 13/20\n",
            "60/60 [==============================] - 7s 121ms/step - loss: 2.1758 - accuracy: 0.1982\n",
            "Epoch 14/20\n",
            "60/60 [==============================] - 7s 120ms/step - loss: 2.1655 - accuracy: 0.1973\n",
            "Epoch 15/20\n",
            "60/60 [==============================] - 7s 120ms/step - loss: 2.1531 - accuracy: 0.2030\n",
            "Epoch 16/20\n",
            "60/60 [==============================] - 7s 120ms/step - loss: 2.1424 - accuracy: 0.2061\n",
            "Epoch 17/20\n",
            "60/60 [==============================] - 7s 119ms/step - loss: 2.1320 - accuracy: 0.2084\n",
            "Epoch 18/20\n",
            "60/60 [==============================] - 7s 119ms/step - loss: 2.1187 - accuracy: 0.2198\n",
            "Epoch 19/20\n",
            "60/60 [==============================] - 7s 120ms/step - loss: 2.1085 - accuracy: 0.2273\n",
            "Epoch 20/20\n",
            "60/60 [==============================] - 7s 119ms/step - loss: 2.0986 - accuracy: 0.2327\n"
          ],
          "name": "stdout"
        },
        {
          "output_type": "execute_result",
          "data": {
            "text/plain": [
              "<tensorflow.python.keras.callbacks.History at 0x7fa1eee221d0>"
            ]
          },
          "metadata": {
            "tags": []
          },
          "execution_count": 22
        }
      ]
    },
    {
      "cell_type": "code",
      "metadata": {
        "colab": {
          "base_uri": "https://localhost:8080/"
        },
        "id": "1IKJMj_RZ-f6",
        "outputId": "77b6bb54-3de2-4092-c219-35caa3a7731d"
      },
      "source": [
        "score=ann_model.evaluate(x_test, y_test, verbose=0)\n",
        "print(\"Test loss:\", score[0])\n",
        "print(\"Test accuracy\", score[1])\n",
        "\n",
        "\n",
        "sm_lr_0001=score[1] #accuracy score\n",
        "\n",
        "sm_accuracy3.append(sm_lr_0001)\n",
        "sm_lr3.append(\"0.0001\")"
      ],
      "execution_count": null,
      "outputs": [
        {
          "output_type": "stream",
          "text": [
            "Test loss: 2.093034505844116\n",
            "Test accuracy 0.23909999430179596\n"
          ],
          "name": "stdout"
        }
      ]
    },
    {
      "cell_type": "code",
      "metadata": {
        "colab": {
          "base_uri": "https://localhost:8080/"
        },
        "id": "2R-FXy4naSdL",
        "outputId": "dff3340c-9ee4-4506-b283-25325dd5b891"
      },
      "source": [
        "#compiling the model\n",
        "sgd_01=optimizers.SGD(lr=0.01) #lr=learning rate\n",
        "\n",
        "\n",
        "ann_model.compile(optimizer=sgd_01, \n",
        "                   loss=\"categorical_crossentropy\",\n",
        "                   metrics=[\"accuracy\"])\n",
        "\n",
        "#training the model\n",
        "ann_model.fit(x_train, y_train, batch_size=1000, epochs=20, verbose=1)"
      ],
      "execution_count": null,
      "outputs": [
        {
          "output_type": "stream",
          "text": [
            "Epoch 1/20\n",
            "60/60 [==============================] - 8s 120ms/step - loss: 1.8711 - accuracy: 0.4527\n",
            "Epoch 2/20\n",
            "60/60 [==============================] - 7s 119ms/step - loss: 1.2393 - accuracy: 0.6636\n",
            "Epoch 3/20\n",
            "60/60 [==============================] - 7s 120ms/step - loss: 0.9579 - accuracy: 0.7155\n",
            "Epoch 4/20\n",
            "60/60 [==============================] - 7s 120ms/step - loss: 0.8195 - accuracy: 0.7511\n",
            "Epoch 5/20\n",
            "60/60 [==============================] - 7s 121ms/step - loss: 0.7448 - accuracy: 0.7668\n",
            "Epoch 6/20\n",
            "60/60 [==============================] - 7s 123ms/step - loss: 0.6884 - accuracy: 0.7794\n",
            "Epoch 7/20\n",
            "60/60 [==============================] - 7s 121ms/step - loss: 0.6543 - accuracy: 0.7890\n",
            "Epoch 8/20\n",
            "60/60 [==============================] - 7s 120ms/step - loss: 0.6219 - accuracy: 0.7981\n",
            "Epoch 9/20\n",
            "60/60 [==============================] - 7s 120ms/step - loss: 0.6018 - accuracy: 0.8035\n",
            "Epoch 10/20\n",
            "60/60 [==============================] - 7s 119ms/step - loss: 0.5822 - accuracy: 0.8089\n",
            "Epoch 11/20\n",
            "60/60 [==============================] - 7s 122ms/step - loss: 0.5662 - accuracy: 0.8143\n",
            "Epoch 12/20\n",
            "60/60 [==============================] - 7s 121ms/step - loss: 0.5496 - accuracy: 0.8174\n",
            "Epoch 13/20\n",
            "60/60 [==============================] - 7s 120ms/step - loss: 0.5409 - accuracy: 0.8183\n",
            "Epoch 14/20\n",
            "60/60 [==============================] - 7s 120ms/step - loss: 0.5316 - accuracy: 0.8209\n",
            "Epoch 15/20\n",
            "60/60 [==============================] - 7s 123ms/step - loss: 0.5192 - accuracy: 0.8268\n",
            "Epoch 16/20\n",
            "60/60 [==============================] - 7s 124ms/step - loss: 0.5126 - accuracy: 0.8281\n",
            "Epoch 17/20\n",
            "60/60 [==============================] - 7s 120ms/step - loss: 0.5065 - accuracy: 0.8276\n",
            "Epoch 18/20\n",
            "60/60 [==============================] - 7s 120ms/step - loss: 0.4941 - accuracy: 0.8329\n",
            "Epoch 19/20\n",
            "60/60 [==============================] - 7s 120ms/step - loss: 0.4895 - accuracy: 0.8328\n",
            "Epoch 20/20\n",
            "60/60 [==============================] - 7s 119ms/step - loss: 0.4794 - accuracy: 0.8378\n"
          ],
          "name": "stdout"
        },
        {
          "output_type": "execute_result",
          "data": {
            "text/plain": [
              "<tensorflow.python.keras.callbacks.History at 0x7fa1e4df5208>"
            ]
          },
          "metadata": {
            "tags": []
          },
          "execution_count": 24
        }
      ]
    },
    {
      "cell_type": "code",
      "metadata": {
        "colab": {
          "base_uri": "https://localhost:8080/"
        },
        "id": "I6S6O1QLaSqg",
        "outputId": "f757ad9a-d613-4428-8d6c-2fe61a2d97c3"
      },
      "source": [
        "score=ann_model.evaluate(x_test, y_test, verbose=0)\n",
        "print(\"Test loss:\", score[0])\n",
        "print(\"Test accuracy\", score[1])\n",
        "\n",
        "sm_lr_01=score[1] #accuracy score\n",
        "\n",
        "sm_accuracy3.append(sm_lr_01)\n",
        "sm_lr3.append(\"0.01\")"
      ],
      "execution_count": null,
      "outputs": [
        {
          "output_type": "stream",
          "text": [
            "Test loss: 0.5056796669960022\n",
            "Test accuracy 0.824999988079071\n"
          ],
          "name": "stdout"
        }
      ]
    },
    {
      "cell_type": "code",
      "metadata": {
        "colab": {
          "base_uri": "https://localhost:8080/"
        },
        "id": "OGDDN_hhaS7s",
        "outputId": "3c295214-c0f2-4d87-f2d4-a623476e0159"
      },
      "source": [
        "#compiling the model\n",
        "sgd_1=optimizers.SGD(lr=1) #lr=learning rate\n",
        "\n",
        "\n",
        "ann_model.compile(optimizer=sgd_1, \n",
        "                   loss=\"categorical_crossentropy\",\n",
        "                   metrics=[\"accuracy\"])\n",
        "\n",
        "#training the model\n",
        "ann_model.fit(x_train, y_train, batch_size=1000, epochs=20, verbose=1)"
      ],
      "execution_count": null,
      "outputs": [
        {
          "output_type": "stream",
          "text": [
            "Epoch 1/20\n",
            "60/60 [==============================] - 7s 119ms/step - loss: nan - accuracy: 0.1680\n",
            "Epoch 2/20\n",
            "60/60 [==============================] - 7s 120ms/step - loss: nan - accuracy: 0.1007\n",
            "Epoch 3/20\n",
            "60/60 [==============================] - 7s 119ms/step - loss: nan - accuracy: 0.0998\n",
            "Epoch 4/20\n",
            "60/60 [==============================] - 7s 119ms/step - loss: nan - accuracy: 0.0989\n",
            "Epoch 5/20\n",
            "60/60 [==============================] - 7s 119ms/step - loss: nan - accuracy: 0.1009\n",
            "Epoch 6/20\n",
            "60/60 [==============================] - 7s 120ms/step - loss: nan - accuracy: 0.1016\n",
            "Epoch 7/20\n",
            "60/60 [==============================] - 7s 119ms/step - loss: nan - accuracy: 0.1022\n",
            "Epoch 8/20\n",
            "60/60 [==============================] - 7s 120ms/step - loss: nan - accuracy: 0.0990\n",
            "Epoch 9/20\n",
            "60/60 [==============================] - 7s 120ms/step - loss: nan - accuracy: 0.1008\n",
            "Epoch 10/20\n",
            "60/60 [==============================] - 7s 119ms/step - loss: nan - accuracy: 0.1014\n",
            "Epoch 11/20\n",
            "60/60 [==============================] - 7s 119ms/step - loss: nan - accuracy: 0.0992\n",
            "Epoch 12/20\n",
            "60/60 [==============================] - 7s 120ms/step - loss: nan - accuracy: 0.0997\n",
            "Epoch 13/20\n",
            "60/60 [==============================] - 7s 119ms/step - loss: nan - accuracy: 0.1012\n",
            "Epoch 14/20\n",
            "60/60 [==============================] - 7s 120ms/step - loss: nan - accuracy: 0.1001\n",
            "Epoch 15/20\n",
            "60/60 [==============================] - 7s 120ms/step - loss: nan - accuracy: 0.0996\n",
            "Epoch 16/20\n",
            "60/60 [==============================] - 7s 119ms/step - loss: nan - accuracy: 0.1006\n",
            "Epoch 17/20\n",
            "60/60 [==============================] - 7s 119ms/step - loss: nan - accuracy: 0.0996\n",
            "Epoch 18/20\n",
            "60/60 [==============================] - 7s 119ms/step - loss: nan - accuracy: 0.0997\n",
            "Epoch 19/20\n",
            "60/60 [==============================] - 7s 119ms/step - loss: nan - accuracy: 0.1024\n",
            "Epoch 20/20\n",
            "60/60 [==============================] - 7s 120ms/step - loss: nan - accuracy: 0.1023\n"
          ],
          "name": "stdout"
        },
        {
          "output_type": "execute_result",
          "data": {
            "text/plain": [
              "<tensorflow.python.keras.callbacks.History at 0x7fa1e4512780>"
            ]
          },
          "metadata": {
            "tags": []
          },
          "execution_count": 26
        }
      ]
    },
    {
      "cell_type": "code",
      "metadata": {
        "colab": {
          "base_uri": "https://localhost:8080/"
        },
        "id": "fTNvpcbDacD1",
        "outputId": "9f3d3dda-cb45-48fc-995b-ad17b1940882"
      },
      "source": [
        "score=ann_model.evaluate(x_test, y_test, verbose=0)\n",
        "print(\"Test loss:\", score[0])\n",
        "print(\"Test accuracy\", score[1])\n",
        "\n",
        "sm_lr_1=score[1] #accuracy score\n",
        "\n",
        "sm_accuracy3.append(sm_lr_1)\n",
        "sm_lr3.append(\"0.1\")"
      ],
      "execution_count": null,
      "outputs": [
        {
          "output_type": "stream",
          "text": [
            "Test loss: nan\n",
            "Test accuracy 0.10000000149011612\n"
          ],
          "name": "stdout"
        }
      ]
    },
    {
      "cell_type": "code",
      "metadata": {
        "colab": {
          "base_uri": "https://localhost:8080/"
        },
        "id": "WnEeMbr0jQQn",
        "outputId": "f1618e5b-68ca-46f1-fecd-c54328ac3c62"
      },
      "source": [
        "#for eligibility, rounding silhouette scores to 3 decimal places\n",
        "sm_accuracy_rounded = [round(x,3) for x in sm_accuracy3] \n",
        "sm_accuracy_rounded"
      ],
      "execution_count": null,
      "outputs": [
        {
          "output_type": "execute_result",
          "data": {
            "text/plain": [
              "[0.239, 0.825, 0.1]"
            ]
          },
          "metadata": {
            "tags": []
          },
          "execution_count": 28
        }
      ]
    },
    {
      "cell_type": "code",
      "metadata": {
        "colab": {
          "base_uri": "https://localhost:8080/",
          "height": 519
        },
        "id": "TvybAfNCjQle",
        "outputId": "4a3ebf2a-8d1b-4b3d-9b0a-a6787646c617"
      },
      "source": [
        "#using bar graph to display the accuracy scores \n",
        "\n",
        "\n",
        "plt.figure(figsize=(12,8))\n",
        "sns.set_style(\"white\")\n",
        "\n",
        "accuracy_scores=sm_accuracy_rounded\n",
        "\n",
        "plt.bar(sm_lr3,accuracy_scores, color='blue')\n",
        "\n",
        "#labeling each bar with their cv score value. \n",
        "for i in range(len(accuracy_scores)):\n",
        "    plt.annotate(str(accuracy_scores[i]), xy=(sm_lr3[i],accuracy_scores[i]), ha='center', \n",
        "                 fontsize=14,fontweight='normal', color='black') #va='bottom')\n",
        "    \n",
        "\n",
        "    \n",
        "\n",
        "plt.title(\"Accuracy Scores of varying learning rates using 1000 batch_size, 4 layers, last activation function softmax\", fontsize=12,weight='heavy')\n",
        "plt.xlabel('Learning Rate Value', fontsize=12, weight='heavy')\n",
        "plt.ylabel('Accuracy Scores', fontsize=12, weight='heavy')\n",
        "\n",
        "plt.xticks(rotation=0, horizontalalignment='right', \n",
        "           weight='normal', fontsize=12)\n",
        "plt.yticks(weight='normal', fontsize=12)\n",
        "\n",
        "plt.ylim(top=1) #setting y-axis limit value \n",
        "\n",
        "\n",
        "plt.show()"
      ],
      "execution_count": null,
      "outputs": [
        {
          "output_type": "display_data",
          "data": {
            "image/png": "[encoded data removed]",
            "text/plain": [
              "<Figure size 864x576 with 1 Axes>"
            ]
          },
          "metadata": {
            "tags": []
          }
        }
      ]
    },
    {
      "cell_type": "markdown",
      "metadata": {
        "id": "0fUoejzCbPYw"
      },
      "source": [
        "# Last Activation Function=\"Softmax\"\n",
        "# batch_size=500\n",
        "# 4 total layers "
      ]
    },
    {
      "cell_type": "code",
      "metadata": {
        "id": "2ptim1AVlCIC"
      },
      "source": [
        "sm_accuracy4=[]\n",
        "sm_lr4=[]"
      ],
      "execution_count": null,
      "outputs": []
    },
    {
      "cell_type": "code",
      "metadata": {
        "id": "2SMawGS5akmB"
      },
      "source": [
        "#defining first ann model\n",
        "ann_model=Sequential()\n",
        "\n",
        "\n",
        "#first layer\n",
        "ann_model.add(Dense(1024, input_shape=(784, ), activation=\"relu\"))\n",
        "\n",
        "#second layer\n",
        "ann_model.add(Dense(512, activation=\"relu\"))\n",
        "\n",
        "#third layer\n",
        "ann_model.add(Dense(64, activation=\"relu\"))\n",
        "\n",
        "#last layer; output layer.  \n",
        "#using 10 because there are 10 labels total\n",
        "ann_model.add(Dense(10, activation=\"softmax\"))"
      ],
      "execution_count": null,
      "outputs": []
    },
    {
      "cell_type": "code",
      "metadata": {
        "colab": {
          "base_uri": "https://localhost:8080/"
        },
        "id": "ywsQ022Iakvn",
        "outputId": "2580d4b4-3b38-426b-debf-5d29ca3bdcb2"
      },
      "source": [
        "#compiling the model\n",
        "sgd_0001=optimizers.SGD(lr=0.0001) #lr=learning rate\n",
        "\n",
        "\n",
        "ann_model.compile(optimizer=sgd_0001, \n",
        "                   loss=\"categorical_crossentropy\",\n",
        "                   metrics=[\"accuracy\"])\n",
        "\n",
        "#training the model\n",
        "ann_model.fit(x_train, y_train, batch_size=500, epochs=20, verbose=1)"
      ],
      "execution_count": null,
      "outputs": [
        {
          "output_type": "stream",
          "text": [
            "Epoch 1/20\n",
            "120/120 [==============================] - 8s 65ms/step - loss: 2.3141 - accuracy: 0.1608\n",
            "Epoch 2/20\n",
            "120/120 [==============================] - 8s 65ms/step - loss: 2.2860 - accuracy: 0.1837\n",
            "Epoch 3/20\n",
            "120/120 [==============================] - 8s 65ms/step - loss: 2.2572 - accuracy: 0.2092\n",
            "Epoch 4/20\n",
            "120/120 [==============================] - 8s 65ms/step - loss: 2.2318 - accuracy: 0.2316\n",
            "Epoch 5/20\n",
            "120/120 [==============================] - 8s 67ms/step - loss: 2.2047 - accuracy: 0.2617\n",
            "Epoch 6/20\n",
            "120/120 [==============================] - 8s 65ms/step - loss: 2.1809 - accuracy: 0.2968\n",
            "Epoch 7/20\n",
            "120/120 [==============================] - 8s 65ms/step - loss: 2.1577 - accuracy: 0.3305\n",
            "Epoch 8/20\n",
            "120/120 [==============================] - 8s 65ms/step - loss: 2.1351 - accuracy: 0.3670\n",
            "Epoch 9/20\n",
            "120/120 [==============================] - 8s 65ms/step - loss: 2.1124 - accuracy: 0.3951\n",
            "Epoch 10/20\n",
            "120/120 [==============================] - 8s 65ms/step - loss: 2.0910 - accuracy: 0.4147\n",
            "Epoch 11/20\n",
            "120/120 [==============================] - 8s 65ms/step - loss: 2.0689 - accuracy: 0.4335\n",
            "Epoch 12/20\n",
            "120/120 [==============================] - 8s 65ms/step - loss: 2.0477 - accuracy: 0.4467\n",
            "Epoch 13/20\n",
            "120/120 [==============================] - 8s 66ms/step - loss: 2.0266 - accuracy: 0.4567\n",
            "Epoch 14/20\n",
            "120/120 [==============================] - 8s 66ms/step - loss: 2.0059 - accuracy: 0.4634\n",
            "Epoch 15/20\n",
            "120/120 [==============================] - 8s 64ms/step - loss: 1.9866 - accuracy: 0.4726\n",
            "Epoch 16/20\n",
            "120/120 [==============================] - 8s 65ms/step - loss: 1.9669 - accuracy: 0.4810\n",
            "Epoch 17/20\n",
            "120/120 [==============================] - 8s 64ms/step - loss: 1.9463 - accuracy: 0.4865\n",
            "Epoch 18/20\n",
            "120/120 [==============================] - 8s 64ms/step - loss: 1.9270 - accuracy: 0.4969\n",
            "Epoch 19/20\n",
            "120/120 [==============================] - 8s 64ms/step - loss: 1.9067 - accuracy: 0.5058\n",
            "Epoch 20/20\n",
            "120/120 [==============================] - 8s 64ms/step - loss: 1.8872 - accuracy: 0.5081\n"
          ],
          "name": "stdout"
        },
        {
          "output_type": "execute_result",
          "data": {
            "text/plain": [
              "<tensorflow.python.keras.callbacks.History at 0x7fa1e2b8e208>"
            ]
          },
          "metadata": {
            "tags": []
          },
          "execution_count": 33
        }
      ]
    },
    {
      "cell_type": "code",
      "metadata": {
        "id": "2YLlQ2pLak4p",
        "colab": {
          "base_uri": "https://localhost:8080/"
        },
        "outputId": "695af205-ffa2-4ada-933a-3d8109410bc1"
      },
      "source": [
        "score=ann_model.evaluate(x_test, y_test, verbose=0)\n",
        "print(\"Test loss:\", score[0])\n",
        "print(\"Test accuracy\", score[1])\n",
        "\n",
        "\n",
        "sm_lr_0001=score[1] #accuracy score\n",
        "\n",
        "sm_accuracy4.append(sm_lr_0001)\n",
        "sm_lr4.append(\"0.0001\")"
      ],
      "execution_count": null,
      "outputs": [
        {
          "output_type": "stream",
          "text": [
            "Test loss: 1.8760634660720825\n",
            "Test accuracy 0.5116999745368958\n"
          ],
          "name": "stdout"
        }
      ]
    },
    {
      "cell_type": "code",
      "metadata": {
        "id": "BE61Pavoak-P",
        "colab": {
          "base_uri": "https://localhost:8080/"
        },
        "outputId": "4695a64e-72cd-4983-b3ef-5bce6fa3cc54"
      },
      "source": [
        "#compiling the model\n",
        "sgd_01=optimizers.SGD(lr=0.01) #lr=learning rate\n",
        "\n",
        "\n",
        "ann_model.compile(optimizer=sgd_01, \n",
        "                   loss=\"categorical_crossentropy\",\n",
        "                   metrics=[\"accuracy\"])\n",
        "\n",
        "#training the model\n",
        "ann_model.fit(x_train, y_train, batch_size=500, epochs=20, verbose=1)"
      ],
      "execution_count": null,
      "outputs": [
        {
          "output_type": "stream",
          "text": [
            "Epoch 1/20\n",
            "120/120 [==============================] - 8s 65ms/step - loss: 1.5270 - accuracy: 0.6110\n",
            "Epoch 2/20\n",
            "120/120 [==============================] - 8s 65ms/step - loss: 0.9137 - accuracy: 0.7129\n",
            "Epoch 3/20\n",
            "120/120 [==============================] - 8s 64ms/step - loss: 0.7437 - accuracy: 0.7690\n",
            "Epoch 4/20\n",
            "120/120 [==============================] - 8s 64ms/step - loss: 0.6557 - accuracy: 0.7952\n",
            "Epoch 5/20\n",
            "120/120 [==============================] - 8s 65ms/step - loss: 0.6079 - accuracy: 0.8050\n",
            "Epoch 6/20\n",
            "120/120 [==============================] - 8s 64ms/step - loss: 0.5652 - accuracy: 0.8172\n",
            "Epoch 7/20\n",
            "120/120 [==============================] - 8s 65ms/step - loss: 0.5397 - accuracy: 0.8212\n",
            "Epoch 8/20\n",
            "120/120 [==============================] - 8s 64ms/step - loss: 0.5195 - accuracy: 0.8267\n",
            "Epoch 9/20\n",
            "120/120 [==============================] - 8s 65ms/step - loss: 0.5060 - accuracy: 0.8295\n",
            "Epoch 10/20\n",
            "120/120 [==============================] - 8s 65ms/step - loss: 0.4942 - accuracy: 0.8315\n",
            "Epoch 11/20\n",
            "120/120 [==============================] - 8s 66ms/step - loss: 0.4818 - accuracy: 0.8366\n",
            "Epoch 12/20\n",
            "120/120 [==============================] - 8s 67ms/step - loss: 0.4776 - accuracy: 0.8340\n",
            "Epoch 13/20\n",
            "120/120 [==============================] - 8s 65ms/step - loss: 0.4647 - accuracy: 0.8403\n",
            "Epoch 14/20\n",
            "120/120 [==============================] - 8s 65ms/step - loss: 0.4572 - accuracy: 0.8425\n",
            "Epoch 15/20\n",
            "120/120 [==============================] - 8s 65ms/step - loss: 0.4444 - accuracy: 0.8458\n",
            "Epoch 16/20\n",
            "120/120 [==============================] - 8s 65ms/step - loss: 0.4454 - accuracy: 0.8477\n",
            "Epoch 17/20\n",
            "120/120 [==============================] - 8s 65ms/step - loss: 0.4402 - accuracy: 0.8461\n",
            "Epoch 18/20\n",
            "120/120 [==============================] - 8s 65ms/step - loss: 0.4343 - accuracy: 0.8504\n",
            "Epoch 19/20\n",
            "120/120 [==============================] - 8s 67ms/step - loss: 0.4279 - accuracy: 0.8535\n",
            "Epoch 20/20\n",
            "120/120 [==============================] - 8s 64ms/step - loss: 0.4283 - accuracy: 0.8516\n"
          ],
          "name": "stdout"
        },
        {
          "output_type": "execute_result",
          "data": {
            "text/plain": [
              "<tensorflow.python.keras.callbacks.History at 0x7fa1e1a12320>"
            ]
          },
          "metadata": {
            "tags": []
          },
          "execution_count": 37
        }
      ]
    },
    {
      "cell_type": "code",
      "metadata": {
        "id": "iODssYfealHW",
        "colab": {
          "base_uri": "https://localhost:8080/"
        },
        "outputId": "d9d32c9a-4a45-408e-aff3-d90f7f37a458"
      },
      "source": [
        "score=ann_model.evaluate(x_test, y_test, verbose=0)\n",
        "print(\"Test loss:\", score[0])\n",
        "print(\"Test accuracy\", score[1])\n",
        "\n",
        "sm_lr_01=score[1] #accuracy score\n",
        "\n",
        "sm_accuracy4.append(sm_lr_01)\n",
        "sm_lr4.append(\"0.01\")"
      ],
      "execution_count": null,
      "outputs": [
        {
          "output_type": "stream",
          "text": [
            "Test loss: 0.45591410994529724\n",
            "Test accuracy 0.8388000130653381\n"
          ],
          "name": "stdout"
        }
      ]
    },
    {
      "cell_type": "code",
      "metadata": {
        "id": "J0a5vK2Xayz4",
        "colab": {
          "base_uri": "https://localhost:8080/"
        },
        "outputId": "9a07b0f2-5694-4f41-9aca-7c104dee0ecc"
      },
      "source": [
        "#compiling the model\n",
        "sgd_1=optimizers.SGD(lr=1) #lr=learning rate\n",
        "\n",
        "\n",
        "ann_model.compile(optimizer=sgd_1, \n",
        "                   loss=\"categorical_crossentropy\",\n",
        "                   metrics=[\"accuracy\"])\n",
        "\n",
        "#training the model\n",
        "ann_model.fit(x_train, y_train, batch_size=500, epochs=20, verbose=1)"
      ],
      "execution_count": null,
      "outputs": [
        {
          "output_type": "stream",
          "text": [
            "Epoch 1/20\n",
            "120/120 [==============================] - 8s 65ms/step - loss: nan - accuracy: 0.1367\n",
            "Epoch 2/20\n",
            "120/120 [==============================] - 8s 65ms/step - loss: nan - accuracy: 0.0989\n",
            "Epoch 3/20\n",
            "120/120 [==============================] - 8s 65ms/step - loss: nan - accuracy: 0.1014\n",
            "Epoch 4/20\n",
            "120/120 [==============================] - 8s 65ms/step - loss: nan - accuracy: 0.1003\n",
            "Epoch 5/20\n",
            "120/120 [==============================] - 8s 65ms/step - loss: nan - accuracy: 0.0992\n",
            "Epoch 6/20\n",
            "120/120 [==============================] - 8s 65ms/step - loss: nan - accuracy: 0.0994\n",
            "Epoch 7/20\n",
            "120/120 [==============================] - 8s 65ms/step - loss: nan - accuracy: 0.1006\n",
            "Epoch 8/20\n",
            "120/120 [==============================] - 8s 65ms/step - loss: nan - accuracy: 0.1013\n",
            "Epoch 9/20\n",
            "120/120 [==============================] - 8s 65ms/step - loss: nan - accuracy: 0.0979\n",
            "Epoch 10/20\n",
            "120/120 [==============================] - 8s 65ms/step - loss: nan - accuracy: 0.1000\n",
            "Epoch 11/20\n",
            "120/120 [==============================] - 8s 65ms/step - loss: nan - accuracy: 0.0994\n",
            "Epoch 12/20\n",
            "120/120 [==============================] - 8s 65ms/step - loss: nan - accuracy: 0.1018\n",
            "Epoch 13/20\n",
            "120/120 [==============================] - 8s 65ms/step - loss: nan - accuracy: 0.0995\n",
            "Epoch 14/20\n",
            "120/120 [==============================] - 8s 65ms/step - loss: nan - accuracy: 0.0994\n",
            "Epoch 15/20\n",
            "120/120 [==============================] - 8s 65ms/step - loss: nan - accuracy: 0.1015\n",
            "Epoch 16/20\n",
            "120/120 [==============================] - 8s 65ms/step - loss: nan - accuracy: 0.0992\n",
            "Epoch 17/20\n",
            "120/120 [==============================] - 8s 65ms/step - loss: nan - accuracy: 0.0995\n",
            "Epoch 18/20\n",
            "120/120 [==============================] - 8s 64ms/step - loss: nan - accuracy: 0.1012\n",
            "Epoch 19/20\n",
            "120/120 [==============================] - 8s 65ms/step - loss: nan - accuracy: 0.0986\n",
            "Epoch 20/20\n",
            "120/120 [==============================] - 8s 65ms/step - loss: nan - accuracy: 0.1002\n"
          ],
          "name": "stdout"
        },
        {
          "output_type": "execute_result",
          "data": {
            "text/plain": [
              "<tensorflow.python.keras.callbacks.History at 0x7fa1e112c1d0>"
            ]
          },
          "metadata": {
            "tags": []
          },
          "execution_count": 39
        }
      ]
    },
    {
      "cell_type": "code",
      "metadata": {
        "id": "ukkwrMHNaz26",
        "colab": {
          "base_uri": "https://localhost:8080/"
        },
        "outputId": "1ea76d21-3caa-46fc-9eb0-9e5361f8a231"
      },
      "source": [
        "score=ann_model.evaluate(x_test, y_test, verbose=0)\n",
        "print(\"Test loss:\", score[0])\n",
        "print(\"Test accuracy\", score[1])\n",
        "\n",
        "sm_lr_1=score[1] #accuracy score\n",
        "\n",
        "sm_accuracy4.append(sm_lr_1)\n",
        "sm_lr4.append(\"1\")"
      ],
      "execution_count": null,
      "outputs": [
        {
          "output_type": "stream",
          "text": [
            "Test loss: nan\n",
            "Test accuracy 0.10000000149011612\n"
          ],
          "name": "stdout"
        }
      ]
    },
    {
      "cell_type": "code",
      "metadata": {
        "colab": {
          "base_uri": "https://localhost:8080/"
        },
        "id": "4lij1gNclZtn",
        "outputId": "edc505b0-a3cf-421c-a08b-90e2f47275f7"
      },
      "source": [
        "#for eligibility, rounding silhouette scores to 3 decimal places\n",
        "sm_accuracy_rounded = [round(x,3) for x in sm_accuracy4] \n",
        "sm_accuracy_rounded"
      ],
      "execution_count": null,
      "outputs": [
        {
          "output_type": "execute_result",
          "data": {
            "text/plain": [
              "[0.512, 0.839, 0.1]"
            ]
          },
          "metadata": {
            "tags": []
          },
          "execution_count": 41
        }
      ]
    },
    {
      "cell_type": "code",
      "metadata": {
        "colab": {
          "base_uri": "https://localhost:8080/",
          "height": 519
        },
        "id": "mBQ0708hlaC4",
        "outputId": "00a0b3ed-4c08-4b03-98f5-bbea37088d1e"
      },
      "source": [
        "#using bar graph to display the accuracy scores \n",
        "\n",
        "\n",
        "plt.figure(figsize=(12,8))\n",
        "sns.set_style(\"white\")\n",
        "\n",
        "accuracy_scores=sm_accuracy_rounded\n",
        "\n",
        "plt.bar(sm_lr4,accuracy_scores, color='blue')\n",
        "\n",
        "#labeling each bar with their cv score value. \n",
        "for i in range(len(accuracy_scores)):\n",
        "    plt.annotate(str(accuracy_scores[i]), xy=(sm_lr4[i],accuracy_scores[i]), ha='center', \n",
        "                 fontsize=14,fontweight='normal', color='black') #va='bottom')\n",
        "    \n",
        "\n",
        "    \n",
        "\n",
        "plt.title(\"Accuracy Scores of varying learning rates using 500 batch_size, 4 layers, last activation function softmax\", fontsize=12,weight='heavy')\n",
        "plt.xlabel('Learning Rate Value', fontsize=12, weight='heavy')\n",
        "plt.ylabel('Accuracy Scores', fontsize=12, weight='heavy')\n",
        "\n",
        "plt.xticks(rotation=0, horizontalalignment='right', \n",
        "           weight='normal', fontsize=12)\n",
        "plt.yticks(weight='normal', fontsize=12)\n",
        "\n",
        "plt.ylim(top=1) #setting y-axis limit value \n",
        "\n",
        "\n",
        "plt.show()"
      ],
      "execution_count": null,
      "outputs": [
        {
          "output_type": "display_data",
          "data": {
            "image/png": "[encoded data removed]",
            "text/plain": [
              "<Figure size 864x576 with 1 Axes>"
            ]
          },
          "metadata": {
            "tags": []
          }
        }
      ]
    },
    {
      "cell_type": "markdown",
      "metadata": {
        "id": "gwN2d1sByPwc"
      },
      "source": [
        "<h1><font color=\"red\">4. Compare your models' training scores and interpret your results.</h1></font color>\n",
        "\n",
        "\n",
        "<h1><font color=\"red\">5. Evaluate how your models perform on your test set. Compare the results of your models.</h1></font color>\n",
        "\n",
        "## Using the activation functions reLu for the hidden layers and softmax as the last activation function had the best performing model using 0.01 learning rate, 500 batch_size, and 7 layers because this model had the highest test accuracy score of 0.849 and its training score having a close accuracy score. This model performed better than using learning rates 0.0001 or 1.\n",
        "\n",
        "**0.01 learning rate with 7 layers**\n",
        "* 1000 batch size had a 0.824 test accuracy score\n",
        "* 500 batch size had a 0.849 test accuracy score\n",
        "\n",
        "**0.01 learning rate with 4 layers**\n",
        "* 1000 batch size had a 0.825 test accuracy score\n",
        "* 500 batch size had a 0.839 test accuracy score"
      ]
    },
    {
      "cell_type": "markdown",
      "metadata": {
        "id": "Jsoa3DWiA9Jk"
      },
      "source": [
        "# Last Activation Function=\"Sigmoid\"\n",
        "# batch_size=1000\n",
        "# 7 total layers "
      ]
    },
    {
      "cell_type": "code",
      "metadata": {
        "id": "PjtDvxMQmtnl"
      },
      "source": [
        "sigmoid_accuracy1=[]\n",
        "sigmoid_lr1=[]"
      ],
      "execution_count": null,
      "outputs": []
    },
    {
      "cell_type": "code",
      "metadata": {
        "id": "itzQvQ0mo14n"
      },
      "source": [
        "#defining first ann model\n",
        "ann_model=Sequential()\n",
        "\n",
        "\n",
        "#first layer\n",
        "ann_model.add(Dense(1024, input_shape=(784, ), activation=\"relu\"))\n",
        "\n",
        "#second layer\n",
        "ann_model.add(Dense(512, activation=\"relu\"))\n",
        "\n",
        "#third layer\n",
        "ann_model.add(Dense(256, activation=\"relu\"))\n",
        "\n",
        "#fourth layer\n",
        "ann_model.add(Dense(128, activation=\"relu\"))\n",
        "\n",
        "#fifth layer\n",
        "ann_model.add(Dense(64, activation=\"relu\"))\n",
        "\n",
        "#sixth layer\n",
        "ann_model.add(Dense(32, activation=\"relu\"))\n",
        "\n",
        "\n",
        "#last layer; output layer.  \n",
        "#using 10 because there are 10 labels total\n",
        "ann_model.add(Dense(10, activation=\"sigmoid\"))"
      ],
      "execution_count": null,
      "outputs": []
    },
    {
      "cell_type": "code",
      "metadata": {
        "colab": {
          "base_uri": "https://localhost:8080/"
        },
        "id": "CPH90Ssko2Ap",
        "outputId": "1ecbcb5a-ad94-4a0d-b893-af8f3d95f793"
      },
      "source": [
        "#displaying structure of the ANN model using summary()\n",
        "ann_model.summary()"
      ],
      "execution_count": null,
      "outputs": [
        {
          "output_type": "stream",
          "text": [
            "Model: \"sequential_4\"\n",
            "_________________________________________________________________\n",
            "Layer (type)                 Output Shape              Param #   \n",
            "=================================================================\n",
            "dense_19 (Dense)             (None, 1024)              803840    \n",
            "_________________________________________________________________\n",
            "dense_20 (Dense)             (None, 512)               524800    \n",
            "_________________________________________________________________\n",
            "dense_21 (Dense)             (None, 256)               131328    \n",
            "_________________________________________________________________\n",
            "dense_22 (Dense)             (None, 128)               32896     \n",
            "_________________________________________________________________\n",
            "dense_23 (Dense)             (None, 64)                8256      \n",
            "_________________________________________________________________\n",
            "dense_24 (Dense)             (None, 32)                2080      \n",
            "_________________________________________________________________\n",
            "dense_25 (Dense)             (None, 10)                330       \n",
            "=================================================================\n",
            "Total params: 1,503,530\n",
            "Trainable params: 1,503,530\n",
            "Non-trainable params: 0\n",
            "_________________________________________________________________\n"
          ],
          "name": "stdout"
        }
      ]
    },
    {
      "cell_type": "code",
      "metadata": {
        "colab": {
          "base_uri": "https://localhost:8080/"
        },
        "id": "Yc-IBz5_pFv1",
        "outputId": "da735b14-5c99-47bc-d9a5-e5d081d32855"
      },
      "source": [
        "#compiling the model\n",
        "sgd_0001=optimizers.SGD(lr=0.0001) #lr=learning rate\n",
        "\n",
        "\n",
        "ann_model.compile(optimizer=sgd_0001, \n",
        "                   loss=\"categorical_crossentropy\",\n",
        "                   metrics=[\"accuracy\"])\n",
        "\n",
        "#training the model\n",
        "ann_model.fit(x_train, y_train, batch_size=1000, epochs=20, verbose=1)"
      ],
      "execution_count": null,
      "outputs": [
        {
          "output_type": "stream",
          "text": [
            "Epoch 1/20\n",
            "60/60 [==============================] - 8s 134ms/step - loss: 2.3045 - accuracy: 0.0997\n",
            "Epoch 2/20\n",
            "60/60 [==============================] - 8s 134ms/step - loss: 2.2981 - accuracy: 0.1049\n",
            "Epoch 3/20\n",
            "60/60 [==============================] - 8s 133ms/step - loss: 2.2939 - accuracy: 0.1058\n",
            "Epoch 4/20\n",
            "60/60 [==============================] - 8s 134ms/step - loss: 2.2893 - accuracy: 0.1069\n",
            "Epoch 5/20\n",
            "60/60 [==============================] - 8s 134ms/step - loss: 2.2853 - accuracy: 0.1077\n",
            "Epoch 6/20\n",
            "60/60 [==============================] - 8s 134ms/step - loss: 2.2816 - accuracy: 0.1059\n",
            "Epoch 7/20\n",
            "60/60 [==============================] - 8s 136ms/step - loss: 2.2765 - accuracy: 0.1090\n",
            "Epoch 8/20\n",
            "60/60 [==============================] - 8s 136ms/step - loss: 2.2724 - accuracy: 0.1100\n",
            "Epoch 9/20\n",
            "60/60 [==============================] - 8s 137ms/step - loss: 2.2685 - accuracy: 0.1114\n",
            "Epoch 10/20\n",
            "60/60 [==============================] - 8s 134ms/step - loss: 2.2638 - accuracy: 0.1161\n",
            "Epoch 11/20\n",
            "60/60 [==============================] - 8s 133ms/step - loss: 2.2601 - accuracy: 0.1163\n",
            "Epoch 12/20\n",
            "60/60 [==============================] - 8s 134ms/step - loss: 2.2565 - accuracy: 0.1190\n",
            "Epoch 13/20\n",
            "60/60 [==============================] - 8s 135ms/step - loss: 2.2534 - accuracy: 0.1211\n",
            "Epoch 14/20\n",
            "60/60 [==============================] - 8s 137ms/step - loss: 2.2488 - accuracy: 0.1246\n",
            "Epoch 15/20\n",
            "60/60 [==============================] - 8s 134ms/step - loss: 2.2456 - accuracy: 0.1277\n",
            "Epoch 16/20\n",
            "60/60 [==============================] - 8s 135ms/step - loss: 2.2417 - accuracy: 0.1271\n",
            "Epoch 17/20\n",
            "60/60 [==============================] - 8s 134ms/step - loss: 2.2385 - accuracy: 0.1310\n",
            "Epoch 18/20\n",
            "60/60 [==============================] - 8s 134ms/step - loss: 2.2350 - accuracy: 0.1349\n",
            "Epoch 19/20\n",
            "60/60 [==============================] - 8s 137ms/step - loss: 2.2304 - accuracy: 0.1423\n",
            "Epoch 20/20\n",
            "60/60 [==============================] - 8s 135ms/step - loss: 2.2268 - accuracy: 0.1442\n"
          ],
          "name": "stdout"
        },
        {
          "output_type": "execute_result",
          "data": {
            "text/plain": [
              "<tensorflow.python.keras.callbacks.History at 0x7fa1df7a52e8>"
            ]
          },
          "metadata": {
            "tags": []
          },
          "execution_count": 46
        }
      ]
    },
    {
      "cell_type": "code",
      "metadata": {
        "colab": {
          "base_uri": "https://localhost:8080/"
        },
        "id": "6iOrKwmQqFmH",
        "outputId": "3d7d7b46-965c-4093-8322-7d82badb45ba"
      },
      "source": [
        "score=ann_model.evaluate(x_test, y_test, verbose=0)\n",
        "print(\"Test loss:\", score[0])\n",
        "print(\"Test accuracy\", score[1])\n",
        "\n",
        "sig_0001=score[1]\n",
        "sigmoid_accuracy1.append(sig_0001)\n",
        "sigmoid_lr1.append(\"0.0001\")"
      ],
      "execution_count": null,
      "outputs": [
        {
          "output_type": "stream",
          "text": [
            "Test loss: 2.224557638168335\n",
            "Test accuracy 0.14910000562667847\n"
          ],
          "name": "stdout"
        }
      ]
    },
    {
      "cell_type": "code",
      "metadata": {
        "colab": {
          "base_uri": "https://localhost:8080/"
        },
        "id": "Cgpe3Kv5qLCZ",
        "outputId": "130dfb64-3787-443e-daba-5f7a0597cdbe"
      },
      "source": [
        "sgd_01=optimizers.SGD(lr=0.01)\n",
        "\n",
        "ann_model.compile(optimizer=sgd_01, \n",
        "                   loss=\"categorical_crossentropy\",\n",
        "                   metrics=[\"accuracy\"])\n",
        "\n",
        "#training the model\n",
        "ann_model.fit(x_train, y_train, batch_size=1000, epochs=20, verbose=1)"
      ],
      "execution_count": null,
      "outputs": [
        {
          "output_type": "stream",
          "text": [
            "Epoch 1/20\n",
            "60/60 [==============================] - 12s 187ms/step - loss: 2.1356 - accuracy: 0.2113\n",
            "Epoch 2/20\n",
            "60/60 [==============================] - 12s 192ms/step - loss: 1.6861 - accuracy: 0.4974\n",
            "Epoch 3/20\n",
            "60/60 [==============================] - 11s 186ms/step - loss: 1.1454 - accuracy: 0.6503\n",
            "Epoch 4/20\n",
            "60/60 [==============================] - 11s 191ms/step - loss: 0.9373 - accuracy: 0.6717\n",
            "Epoch 5/20\n",
            "60/60 [==============================] - 11s 182ms/step - loss: 0.8432 - accuracy: 0.7023\n",
            "Epoch 6/20\n",
            "60/60 [==============================] - 11s 187ms/step - loss: 0.7652 - accuracy: 0.7393\n",
            "Epoch 7/20\n",
            "60/60 [==============================] - 10s 172ms/step - loss: 0.7091 - accuracy: 0.7586\n",
            "Epoch 8/20\n",
            "60/60 [==============================] - 11s 176ms/step - loss: 0.6801 - accuracy: 0.7674\n",
            "Epoch 9/20\n",
            "60/60 [==============================] - 11s 188ms/step - loss: 0.6500 - accuracy: 0.7808\n",
            "Epoch 10/20\n",
            "60/60 [==============================] - 12s 194ms/step - loss: 0.6238 - accuracy: 0.7848\n",
            "Epoch 11/20\n",
            "60/60 [==============================] - 11s 189ms/step - loss: 0.6034 - accuracy: 0.7918\n",
            "Epoch 12/20\n",
            "60/60 [==============================] - 12s 194ms/step - loss: 0.5836 - accuracy: 0.7989\n",
            "Epoch 13/20\n",
            "60/60 [==============================] - 12s 195ms/step - loss: 0.5554 - accuracy: 0.8084\n",
            "Epoch 14/20\n",
            "60/60 [==============================] - 11s 184ms/step - loss: 0.5568 - accuracy: 0.8068\n",
            "Epoch 15/20\n",
            "60/60 [==============================] - 11s 185ms/step - loss: 0.5220 - accuracy: 0.8207\n",
            "Epoch 16/20\n",
            "60/60 [==============================] - 11s 183ms/step - loss: 0.5240 - accuracy: 0.8172\n",
            "Epoch 17/20\n",
            "60/60 [==============================] - 10s 160ms/step - loss: 0.5126 - accuracy: 0.8210\n",
            "Epoch 18/20\n",
            "60/60 [==============================] - 9s 155ms/step - loss: 0.4978 - accuracy: 0.8265\n",
            "Epoch 19/20\n",
            "60/60 [==============================] - 9s 153ms/step - loss: 0.4964 - accuracy: 0.8296\n",
            "Epoch 20/20\n",
            "60/60 [==============================] - 9s 148ms/step - loss: 0.4938 - accuracy: 0.8280\n"
          ],
          "name": "stdout"
        },
        {
          "output_type": "execute_result",
          "data": {
            "text/plain": [
              "<tensorflow.python.keras.callbacks.History at 0x7fa1de6287b8>"
            ]
          },
          "metadata": {
            "tags": []
          },
          "execution_count": 49
        }
      ]
    },
    {
      "cell_type": "code",
      "metadata": {
        "colab": {
          "base_uri": "https://localhost:8080/"
        },
        "id": "rBn1YyoUqLKK",
        "outputId": "eff70958-99dc-4300-9da3-5eb18b0101e1"
      },
      "source": [
        "score=ann_model.evaluate(x_test, y_test, verbose=0)\n",
        "print(\"Test loss:\", score[0])\n",
        "print(\"Test accuracy\", score[1])\n",
        "\n",
        "sig_01=score[1]\n",
        "sigmoid_accuracy1.append(sig_01)\n",
        "sigmoid_lr1.append(\"0.01\")"
      ],
      "execution_count": null,
      "outputs": [
        {
          "output_type": "stream",
          "text": [
            "Test loss: 0.509788453578949\n",
            "Test accuracy 0.8184999823570251\n"
          ],
          "name": "stdout"
        }
      ]
    },
    {
      "cell_type": "code",
      "metadata": {
        "colab": {
          "base_uri": "https://localhost:8080/"
        },
        "id": "Uer9saP0qLTF",
        "outputId": "55ca82dc-19b2-4544-d295-e6c0c334b443"
      },
      "source": [
        "sgd_1=optimizers.SGD(lr=1)\n",
        "\n",
        "ann_model.compile(optimizer=sgd_1, \n",
        "                   loss=\"categorical_crossentropy\",\n",
        "                   metrics=[\"accuracy\"])\n",
        "\n",
        "#training the model\n",
        "ann_model.fit(x_train, y_train, batch_size=1000, epochs=20, verbose=1)"
      ],
      "execution_count": null,
      "outputs": [
        {
          "output_type": "stream",
          "text": [
            "Epoch 1/20\n",
            "60/60 [==============================] - 9s 136ms/step - loss: nan - accuracy: 0.1587\n",
            "Epoch 2/20\n",
            "60/60 [==============================] - 8s 137ms/step - loss: nan - accuracy: 0.0988\n",
            "Epoch 3/20\n",
            "60/60 [==============================] - 8s 137ms/step - loss: nan - accuracy: 0.1002\n",
            "Epoch 4/20\n",
            "60/60 [==============================] - 8s 139ms/step - loss: nan - accuracy: 0.1003\n",
            "Epoch 5/20\n",
            "60/60 [==============================] - 9s 142ms/step - loss: nan - accuracy: 0.1003\n",
            "Epoch 6/20\n",
            "60/60 [==============================] - 8s 136ms/step - loss: nan - accuracy: 0.1006\n",
            "Epoch 7/20\n",
            "60/60 [==============================] - 8s 137ms/step - loss: nan - accuracy: 0.1023\n",
            "Epoch 8/20\n",
            "60/60 [==============================] - 8s 140ms/step - loss: nan - accuracy: 0.0995\n",
            "Epoch 9/20\n",
            "60/60 [==============================] - 8s 137ms/step - loss: nan - accuracy: 0.1004\n",
            "Epoch 10/20\n",
            "60/60 [==============================] - 8s 135ms/step - loss: nan - accuracy: 0.0983\n",
            "Epoch 11/20\n",
            "60/60 [==============================] - 8s 135ms/step - loss: nan - accuracy: 0.0988\n",
            "Epoch 12/20\n",
            "60/60 [==============================] - 8s 137ms/step - loss: nan - accuracy: 0.0989\n",
            "Epoch 13/20\n",
            "60/60 [==============================] - 8s 135ms/step - loss: nan - accuracy: 0.1004\n",
            "Epoch 14/20\n",
            "60/60 [==============================] - 8s 137ms/step - loss: nan - accuracy: 0.1009\n",
            "Epoch 15/20\n",
            "60/60 [==============================] - 8s 135ms/step - loss: nan - accuracy: 0.0997\n",
            "Epoch 16/20\n",
            "60/60 [==============================] - 8s 136ms/step - loss: nan - accuracy: 0.1000\n",
            "Epoch 17/20\n",
            "60/60 [==============================] - 8s 136ms/step - loss: nan - accuracy: 0.1005\n",
            "Epoch 18/20\n",
            "60/60 [==============================] - 8s 136ms/step - loss: nan - accuracy: 0.1008\n",
            "Epoch 19/20\n",
            "60/60 [==============================] - 8s 135ms/step - loss: nan - accuracy: 0.1013\n",
            "Epoch 20/20\n",
            "60/60 [==============================] - 8s 136ms/step - loss: nan - accuracy: 0.1002\n"
          ],
          "name": "stdout"
        },
        {
          "output_type": "execute_result",
          "data": {
            "text/plain": [
              "<tensorflow.python.keras.callbacks.History at 0x7fa1dd487240>"
            ]
          },
          "metadata": {
            "tags": []
          },
          "execution_count": 52
        }
      ]
    },
    {
      "cell_type": "code",
      "metadata": {
        "colab": {
          "base_uri": "https://localhost:8080/"
        },
        "id": "08wJyB_hqZ6d",
        "outputId": "b3fb33d7-fe0e-41fd-e14c-cd894aec714e"
      },
      "source": [
        "score=ann_model.evaluate(x_test, y_test, verbose=0)\n",
        "print(\"Test loss:\", score[0])\n",
        "print(\"Test accuracy\", score[1])\n",
        "\n",
        "sig_1=score[1]\n",
        "sigmoid_accuracy1.append(sig_1)\n",
        "sigmoid_lr1.append(\"1\")"
      ],
      "execution_count": null,
      "outputs": [
        {
          "output_type": "stream",
          "text": [
            "Test loss: nan\n",
            "Test accuracy 0.10000000149011612\n"
          ],
          "name": "stdout"
        }
      ]
    },
    {
      "cell_type": "code",
      "metadata": {
        "colab": {
          "base_uri": "https://localhost:8080/"
        },
        "id": "U95c3q_no3Pp",
        "outputId": "b6ed1023-818f-4831-ca4f-57fb796425e3"
      },
      "source": [
        "#for eligibility, rounding silhouette scores to 3 decimal places\n",
        "sm_accuracy_rounded = [round(x,3) for x in sigmoid_accuracy1] \n",
        "sm_accuracy_rounded"
      ],
      "execution_count": null,
      "outputs": [
        {
          "output_type": "execute_result",
          "data": {
            "text/plain": [
              "[0.149, 0.818, 0.1]"
            ]
          },
          "metadata": {
            "tags": []
          },
          "execution_count": 55
        }
      ]
    },
    {
      "cell_type": "code",
      "metadata": {
        "colab": {
          "base_uri": "https://localhost:8080/",
          "height": 519
        },
        "id": "-XpzE7Wso3hf",
        "outputId": "42a872b0-e789-4a61-eefa-9a2f75001cef"
      },
      "source": [
        "#using bar graph to display the accuracy scores \n",
        "\n",
        "\n",
        "plt.figure(figsize=(12,8))\n",
        "sns.set_style(\"white\")\n",
        "\n",
        "accuracy_scores=sm_accuracy_rounded\n",
        "\n",
        "plt.bar(sigmoid_lr1,accuracy_scores, color='red')\n",
        "\n",
        "#labeling each bar with their cv score value. \n",
        "for i in range(len(accuracy_scores)):\n",
        "    plt.annotate(str(accuracy_scores[i]), xy=(sigmoid_lr1[i],accuracy_scores[i]), ha='center', \n",
        "                 fontsize=14,fontweight='normal', color='black') #va='bottom')\n",
        "    \n",
        "\n",
        "    \n",
        "\n",
        "plt.title(\"Accuracy Scores of varying learning rates using 1000 batch_size, 7 layers, last activation function sigmoid\", fontsize=12,weight='heavy')\n",
        "plt.xlabel('Learning Rate Value', fontsize=12, weight='heavy')\n",
        "plt.ylabel('Accuracy Scores', fontsize=12, weight='heavy')\n",
        "\n",
        "plt.xticks(rotation=0, horizontalalignment='right', \n",
        "           weight='normal', fontsize=12)\n",
        "plt.yticks(weight='normal', fontsize=12)\n",
        "\n",
        "plt.ylim(top=1) #setting y-axis limit value \n",
        "\n",
        "\n",
        "plt.show()"
      ],
      "execution_count": null,
      "outputs": [
        {
          "output_type": "display_data",
          "data": {
            "image/png": "[encoded data removed]",
            "text/plain": [
              "<Figure size 864x576 with 1 Axes>"
            ]
          },
          "metadata": {
            "tags": []
          }
        }
      ]
    },
    {
      "cell_type": "markdown",
      "metadata": {
        "id": "fWGDHoQnVF1Y"
      },
      "source": [
        "# Last Activation Function=\"Sigmoid\"\n",
        "# batch_size=500\n",
        "# 7 total layers "
      ]
    },
    {
      "cell_type": "code",
      "metadata": {
        "id": "yd0fCEtTnkzo"
      },
      "source": [
        "sigmoid_accuracy2=[]\n",
        "sigmoid_lr2=[]"
      ],
      "execution_count": null,
      "outputs": []
    },
    {
      "cell_type": "code",
      "metadata": {
        "id": "-7HCNQK8VHAW"
      },
      "source": [
        "#defining first ann model\n",
        "ann_model=Sequential()\n",
        "\n",
        "\n",
        "#first layer\n",
        "ann_model.add(Dense(1024, input_shape=(784, ), activation=\"relu\"))\n",
        "\n",
        "#second layer\n",
        "ann_model.add(Dense(512, activation=\"relu\"))\n",
        "\n",
        "#third layer\n",
        "ann_model.add(Dense(256, activation=\"relu\"))\n",
        "\n",
        "#fourth layer\n",
        "ann_model.add(Dense(128, activation=\"relu\"))\n",
        "\n",
        "#fifth layer\n",
        "ann_model.add(Dense(64, activation=\"relu\"))\n",
        "\n",
        "#sixth layer\n",
        "ann_model.add(Dense(32, activation=\"relu\"))\n",
        "\n",
        "\n",
        "#last layer; output layer.  \n",
        "#using 10 because there are 10 labels total\n",
        "ann_model.add(Dense(10, activation=\"sigmoid\"))"
      ],
      "execution_count": null,
      "outputs": []
    },
    {
      "cell_type": "code",
      "metadata": {
        "colab": {
          "base_uri": "https://localhost:8080/"
        },
        "id": "D7Lk2MQuVLbL",
        "outputId": "24c875a2-db25-47bb-9229-23cafe4e8d56"
      },
      "source": [
        "#compiling the model\n",
        "sgd_0001=optimizers.SGD(lr=0.0001) #lr=learning rate\n",
        "\n",
        "\n",
        "ann_model.compile(optimizer=sgd_0001, \n",
        "                   loss=\"categorical_crossentropy\",\n",
        "                   metrics=[\"accuracy\"])\n",
        "\n",
        "#training the model\n",
        "ann_model.fit(x_train, y_train, batch_size=500, epochs=20, verbose=1)"
      ],
      "execution_count": null,
      "outputs": [
        {
          "output_type": "stream",
          "text": [
            "Epoch 1/20\n",
            "120/120 [==============================] - 9s 74ms/step - loss: 2.3022 - accuracy: 0.1269\n",
            "Epoch 2/20\n",
            "120/120 [==============================] - 9s 73ms/step - loss: 2.2969 - accuracy: 0.1304\n",
            "Epoch 3/20\n",
            "120/120 [==============================] - 9s 73ms/step - loss: 2.2914 - accuracy: 0.1320\n",
            "Epoch 4/20\n",
            "120/120 [==============================] - 9s 73ms/step - loss: 2.2868 - accuracy: 0.1331\n",
            "Epoch 5/20\n",
            "120/120 [==============================] - 9s 74ms/step - loss: 2.2820 - accuracy: 0.1363\n",
            "Epoch 6/20\n",
            "120/120 [==============================] - 9s 73ms/step - loss: 2.2786 - accuracy: 0.1361\n",
            "Epoch 7/20\n",
            "120/120 [==============================] - 9s 75ms/step - loss: 2.2751 - accuracy: 0.1337\n",
            "Epoch 8/20\n",
            "120/120 [==============================] - 9s 76ms/step - loss: 2.2710 - accuracy: 0.1366\n",
            "Epoch 9/20\n",
            "120/120 [==============================] - 9s 74ms/step - loss: 2.2675 - accuracy: 0.1404\n",
            "Epoch 10/20\n",
            "120/120 [==============================] - 9s 75ms/step - loss: 2.2646 - accuracy: 0.1403\n",
            "Epoch 11/20\n",
            "120/120 [==============================] - 9s 75ms/step - loss: 2.2613 - accuracy: 0.1439\n",
            "Epoch 12/20\n",
            "120/120 [==============================] - 9s 73ms/step - loss: 2.2575 - accuracy: 0.1474\n",
            "Epoch 13/20\n",
            "120/120 [==============================] - 9s 73ms/step - loss: 2.2548 - accuracy: 0.1514\n",
            "Epoch 14/20\n",
            "120/120 [==============================] - 9s 73ms/step - loss: 2.2507 - accuracy: 0.1567\n",
            "Epoch 15/20\n",
            "120/120 [==============================] - 9s 73ms/step - loss: 2.2480 - accuracy: 0.1608\n",
            "Epoch 16/20\n",
            "120/120 [==============================] - 9s 73ms/step - loss: 2.2450 - accuracy: 0.1645\n",
            "Epoch 17/20\n",
            "120/120 [==============================] - 9s 73ms/step - loss: 2.2416 - accuracy: 0.1713\n",
            "Epoch 18/20\n",
            "120/120 [==============================] - 9s 73ms/step - loss: 2.2382 - accuracy: 0.1753\n",
            "Epoch 19/20\n",
            "120/120 [==============================] - 9s 73ms/step - loss: 2.2340 - accuracy: 0.1828\n",
            "Epoch 20/20\n",
            "120/120 [==============================] - 9s 73ms/step - loss: 2.2303 - accuracy: 0.1896\n"
          ],
          "name": "stdout"
        },
        {
          "output_type": "execute_result",
          "data": {
            "text/plain": [
              "<tensorflow.python.keras.callbacks.History at 0x7fa1e45085f8>"
            ]
          },
          "metadata": {
            "tags": []
          },
          "execution_count": 60
        }
      ]
    },
    {
      "cell_type": "code",
      "metadata": {
        "colab": {
          "base_uri": "https://localhost:8080/"
        },
        "id": "QofXFcT1VLf1",
        "outputId": "51cd726e-1cbe-4e29-e621-144365da6a84"
      },
      "source": [
        "score=ann_model.evaluate(x_test, y_test, verbose=0)\n",
        "print(\"Test loss:\", score[0])\n",
        "print(\"Test accuracy\", score[1])\n",
        "\n",
        "\n",
        "sig_0001=score[1]\n",
        "sigmoid_accuracy2.append(sig_0001)\n",
        "sigmoid_lr2.append(\"0.0001\")\n"
      ],
      "execution_count": null,
      "outputs": [
        {
          "output_type": "stream",
          "text": [
            "Test loss: 2.228036642074585\n",
            "Test accuracy 0.19020000100135803\n"
          ],
          "name": "stdout"
        }
      ]
    },
    {
      "cell_type": "code",
      "metadata": {
        "colab": {
          "base_uri": "https://localhost:8080/"
        },
        "id": "3L64Pb6VVLkK",
        "outputId": "c88bdc5a-ce86-47bc-c9a1-fdf2e841e253"
      },
      "source": [
        "#compiling the model\n",
        "sgd_01=optimizers.SGD(lr=0.01) #lr=learning rate\n",
        "\n",
        "\n",
        "ann_model.compile(optimizer=sgd_01, \n",
        "                   loss=\"categorical_crossentropy\",\n",
        "                   metrics=[\"accuracy\"])\n",
        "\n",
        "#training the model\n",
        "ann_model.fit(x_train, y_train, batch_size=500, epochs=20, verbose=1)"
      ],
      "execution_count": null,
      "outputs": [
        {
          "output_type": "stream",
          "text": [
            "Epoch 1/20\n",
            "120/120 [==============================] - 9s 73ms/step - loss: 2.1234 - accuracy: 0.2525\n",
            "Epoch 2/20\n",
            "120/120 [==============================] - 9s 73ms/step - loss: 1.4434 - accuracy: 0.6475\n",
            "Epoch 3/20\n",
            "120/120 [==============================] - 9s 74ms/step - loss: 0.8573 - accuracy: 0.7165\n",
            "Epoch 4/20\n",
            "120/120 [==============================] - 9s 73ms/step - loss: 0.7252 - accuracy: 0.7470\n",
            "Epoch 5/20\n",
            "120/120 [==============================] - 9s 73ms/step - loss: 0.6485 - accuracy: 0.7767\n",
            "Epoch 6/20\n",
            "120/120 [==============================] - 9s 72ms/step - loss: 0.5890 - accuracy: 0.7993\n",
            "Epoch 7/20\n",
            "120/120 [==============================] - 9s 73ms/step - loss: 0.5594 - accuracy: 0.8033\n",
            "Epoch 8/20\n",
            "120/120 [==============================] - 9s 73ms/step - loss: 0.5312 - accuracy: 0.8150\n",
            "Epoch 9/20\n",
            "120/120 [==============================] - 9s 73ms/step - loss: 0.5051 - accuracy: 0.8264\n",
            "Epoch 10/20\n",
            "120/120 [==============================] - 9s 73ms/step - loss: 0.4881 - accuracy: 0.8288\n",
            "Epoch 11/20\n",
            "120/120 [==============================] - 9s 72ms/step - loss: 0.4716 - accuracy: 0.8327\n",
            "Epoch 12/20\n",
            "120/120 [==============================] - 9s 73ms/step - loss: 0.4595 - accuracy: 0.8398\n",
            "Epoch 13/20\n",
            "120/120 [==============================] - 9s 73ms/step - loss: 0.4516 - accuracy: 0.8402\n",
            "Epoch 14/20\n",
            "120/120 [==============================] - 9s 73ms/step - loss: 0.4389 - accuracy: 0.8458\n",
            "Epoch 15/20\n",
            "120/120 [==============================] - 9s 73ms/step - loss: 0.4319 - accuracy: 0.8475\n",
            "Epoch 16/20\n",
            "120/120 [==============================] - 9s 73ms/step - loss: 0.4235 - accuracy: 0.8508\n",
            "Epoch 17/20\n",
            "120/120 [==============================] - 9s 73ms/step - loss: 0.4068 - accuracy: 0.8568\n",
            "Epoch 18/20\n",
            "120/120 [==============================] - 9s 73ms/step - loss: 0.4065 - accuracy: 0.8577\n",
            "Epoch 19/20\n",
            "120/120 [==============================] - 9s 73ms/step - loss: 0.4073 - accuracy: 0.8567\n",
            "Epoch 20/20\n",
            "120/120 [==============================] - 9s 73ms/step - loss: 0.4036 - accuracy: 0.8578\n"
          ],
          "name": "stdout"
        },
        {
          "output_type": "execute_result",
          "data": {
            "text/plain": [
              "<tensorflow.python.keras.callbacks.History at 0x7fa1dbb10eb8>"
            ]
          },
          "metadata": {
            "tags": []
          },
          "execution_count": 62
        }
      ]
    },
    {
      "cell_type": "code",
      "metadata": {
        "colab": {
          "base_uri": "https://localhost:8080/"
        },
        "id": "eq9VbbWVVLph",
        "outputId": "f9e28481-97de-4ebe-a2a9-522407bde7cd"
      },
      "source": [
        "score=ann_model.evaluate(x_test, y_test, verbose=0)\n",
        "print(\"Test loss:\", score[0])\n",
        "print(\"Test accuracy\", score[1])\n",
        "\n",
        "sig_01=score[1]\n",
        "sigmoid_accuracy2.append(sig_01)\n",
        "sigmoid_lr2.append(\"0.01\")"
      ],
      "execution_count": null,
      "outputs": [
        {
          "output_type": "stream",
          "text": [
            "Test loss: 0.45206737518310547\n",
            "Test accuracy 0.8413000106811523\n"
          ],
          "name": "stdout"
        }
      ]
    },
    {
      "cell_type": "code",
      "metadata": {
        "colab": {
          "base_uri": "https://localhost:8080/"
        },
        "id": "SARlAzaSVLuo",
        "outputId": "c6293afc-3236-43ab-e58e-ee07c174da15"
      },
      "source": [
        "#compiling the model\n",
        "sgd_1=optimizers.SGD(lr=1) #lr=learning rate\n",
        "\n",
        "\n",
        "ann_model.compile(optimizer=sgd_1, \n",
        "                   loss=\"categorical_crossentropy\",\n",
        "                   metrics=[\"accuracy\"])\n",
        "\n",
        "#training the model\n",
        "ann_model.fit(x_train, y_train, batch_size=500, epochs=20, verbose=1)"
      ],
      "execution_count": null,
      "outputs": [
        {
          "output_type": "stream",
          "text": [
            "Epoch 1/20\n",
            "120/120 [==============================] - 9s 73ms/step - loss: nan - accuracy: 0.1330\n",
            "Epoch 2/20\n",
            "120/120 [==============================] - 9s 74ms/step - loss: nan - accuracy: 0.0993\n",
            "Epoch 3/20\n",
            "120/120 [==============================] - 9s 75ms/step - loss: nan - accuracy: 0.1010\n",
            "Epoch 4/20\n",
            "120/120 [==============================] - 9s 74ms/step - loss: nan - accuracy: 0.1003\n",
            "Epoch 5/20\n",
            "120/120 [==============================] - 9s 79ms/step - loss: nan - accuracy: 0.1005\n",
            "Epoch 6/20\n",
            "120/120 [==============================] - 9s 74ms/step - loss: nan - accuracy: 0.1015\n",
            "Epoch 7/20\n",
            "120/120 [==============================] - 9s 74ms/step - loss: nan - accuracy: 0.1014\n",
            "Epoch 8/20\n",
            "120/120 [==============================] - 9s 73ms/step - loss: nan - accuracy: 0.1011\n",
            "Epoch 9/20\n",
            "120/120 [==============================] - 9s 73ms/step - loss: nan - accuracy: 0.0991\n",
            "Epoch 10/20\n",
            "120/120 [==============================] - 9s 73ms/step - loss: nan - accuracy: 0.0988\n",
            "Epoch 11/20\n",
            "120/120 [==============================] - 9s 73ms/step - loss: nan - accuracy: 0.1018\n",
            "Epoch 12/20\n",
            "120/120 [==============================] - 9s 73ms/step - loss: nan - accuracy: 0.0988\n",
            "Epoch 13/20\n",
            "120/120 [==============================] - 9s 74ms/step - loss: nan - accuracy: 0.1007\n",
            "Epoch 14/20\n",
            "120/120 [==============================] - 9s 74ms/step - loss: nan - accuracy: 0.1004\n",
            "Epoch 15/20\n",
            "120/120 [==============================] - 9s 73ms/step - loss: nan - accuracy: 0.1002\n",
            "Epoch 16/20\n",
            "120/120 [==============================] - 9s 74ms/step - loss: nan - accuracy: 0.1019\n",
            "Epoch 17/20\n",
            "120/120 [==============================] - 9s 74ms/step - loss: nan - accuracy: 0.1004\n",
            "Epoch 18/20\n",
            "120/120 [==============================] - 9s 73ms/step - loss: nan - accuracy: 0.1000\n",
            "Epoch 19/20\n",
            "120/120 [==============================] - 9s 73ms/step - loss: nan - accuracy: 0.1014\n",
            "Epoch 20/20\n",
            "120/120 [==============================] - 9s 74ms/step - loss: nan - accuracy: 0.0994\n"
          ],
          "name": "stdout"
        },
        {
          "output_type": "execute_result",
          "data": {
            "text/plain": [
              "<tensorflow.python.keras.callbacks.History at 0x7fa1d8128588>"
            ]
          },
          "metadata": {
            "tags": []
          },
          "execution_count": 64
        }
      ]
    },
    {
      "cell_type": "code",
      "metadata": {
        "colab": {
          "base_uri": "https://localhost:8080/"
        },
        "id": "O2TlVdo9VL0N",
        "outputId": "d017b1c4-7862-4644-c06a-aeadd9e6eb32"
      },
      "source": [
        "score=ann_model.evaluate(x_test, y_test, verbose=0)\n",
        "print(\"Test loss:\", score[0])\n",
        "print(\"Test accuracy\", score[1])\n",
        "\n",
        "sig_1=score[1]\n",
        "sigmoid_accuracy2.append(sig_1)\n",
        "sigmoid_lr2.append(\"1\")"
      ],
      "execution_count": null,
      "outputs": [
        {
          "output_type": "stream",
          "text": [
            "Test loss: nan\n",
            "Test accuracy 0.10000000149011612\n"
          ],
          "name": "stdout"
        }
      ]
    },
    {
      "cell_type": "code",
      "metadata": {
        "colab": {
          "base_uri": "https://localhost:8080/"
        },
        "id": "ZRqkGCdEraQA",
        "outputId": "bb1cfbc0-dd86-4429-baf7-61bb571e5def"
      },
      "source": [
        "#for eligibility, rounding silhouette scores to 3 decimal places\n",
        "sm_accuracy_rounded = [round(x,3) for x in sigmoid_accuracy2] \n",
        "sm_accuracy_rounded"
      ],
      "execution_count": null,
      "outputs": [
        {
          "output_type": "execute_result",
          "data": {
            "text/plain": [
              "[0.19, 0.841, 0.1]"
            ]
          },
          "metadata": {
            "tags": []
          },
          "execution_count": 67
        }
      ]
    },
    {
      "cell_type": "code",
      "metadata": {
        "colab": {
          "base_uri": "https://localhost:8080/",
          "height": 519
        },
        "id": "jf_Kp94Lrag0",
        "outputId": "05ec0b99-6722-4551-ba75-785c2d20f6f3"
      },
      "source": [
        "#using bar graph to display the accuracy scores \n",
        "\n",
        "\n",
        "plt.figure(figsize=(12,8))\n",
        "sns.set_style(\"white\")\n",
        "\n",
        "accuracy_scores=sm_accuracy_rounded\n",
        "\n",
        "plt.bar(sigmoid_lr2,accuracy_scores, color='red')\n",
        "\n",
        "#labeling each bar with their cv score value. \n",
        "for i in range(len(accuracy_scores)):\n",
        "    plt.annotate(str(accuracy_scores[i]), xy=(sigmoid_lr2[i],accuracy_scores[i]), ha='center', \n",
        "                 fontsize=14,fontweight='normal', color='black') #va='bottom')\n",
        "    \n",
        "\n",
        "    \n",
        "\n",
        "plt.title(\"Accuracy Scores of varying learning rates using 500 batch_size, 7 layers, last activation function sigmoid\", fontsize=12,weight='heavy')\n",
        "plt.xlabel('Learning Rate Value', fontsize=12, weight='heavy')\n",
        "plt.ylabel('Accuracy Scores', fontsize=12, weight='heavy')\n",
        "\n",
        "plt.xticks(rotation=0, horizontalalignment='right', \n",
        "           weight='normal', fontsize=12)\n",
        "plt.yticks(weight='normal', fontsize=12)\n",
        "\n",
        "plt.ylim(top=1) #setting y-axis limit value \n",
        "\n",
        "\n",
        "plt.show()"
      ],
      "execution_count": null,
      "outputs": [
        {
          "output_type": "display_data",
          "data": {
            "image/png": "[encoded data removed]",
            "text/plain": [
              "<Figure size 864x576 with 1 Axes>"
            ]
          },
          "metadata": {
            "tags": []
          }
        }
      ]
    },
    {
      "cell_type": "markdown",
      "metadata": {
        "id": "UU107t3wb5Zf"
      },
      "source": [
        "# Last Activation Function=\"Sigmoid\"\n",
        "# batch_size=1000\n",
        "# 4 total layers "
      ]
    },
    {
      "cell_type": "code",
      "metadata": {
        "id": "ubDasJDGqH4G"
      },
      "source": [
        "sigmoid_accuracy3=[]\n",
        "sigmoid_lr3=[]"
      ],
      "execution_count": null,
      "outputs": []
    },
    {
      "cell_type": "code",
      "metadata": {
        "id": "leheKu5db7Js"
      },
      "source": [
        "#defining ann model\n",
        "ann_model=Sequential()\n",
        "\n",
        "\n",
        "#first layer\n",
        "ann_model.add(Dense(1024, input_shape=(784, ), activation=\"relu\"))\n",
        "\n",
        "#second layer\n",
        "ann_model.add(Dense(512, activation=\"relu\"))\n",
        "\n",
        "#third layer\n",
        "ann_model.add(Dense(64, activation=\"relu\"))\n",
        "\n",
        "#last layer; output layer.  \n",
        "#using 10 because there are 10 labels total\n",
        "ann_model.add(Dense(10, activation=\"sigmoid\"))"
      ],
      "execution_count": null,
      "outputs": []
    },
    {
      "cell_type": "code",
      "metadata": {
        "id": "xLzrOH8Nb8Av",
        "colab": {
          "base_uri": "https://localhost:8080/"
        },
        "outputId": "5c8b8f23-ea0f-4ddf-cc94-45b797e0b8b4"
      },
      "source": [
        "#compiling the model\n",
        "sgd_0001=optimizers.SGD(lr=0.0001) #lr=learning rate\n",
        "\n",
        "\n",
        "ann_model.compile(optimizer=sgd_0001, \n",
        "                   loss=\"categorical_crossentropy\",\n",
        "                   metrics=[\"accuracy\"])\n",
        "\n",
        "#training the model\n",
        "ann_model.fit(x_train, y_train, batch_size=1000, epochs=20, verbose=1)"
      ],
      "execution_count": null,
      "outputs": [
        {
          "output_type": "stream",
          "text": [
            "Epoch 1/20\n",
            "60/60 [==============================] - 8s 120ms/step - loss: 2.3216 - accuracy: 0.1231\n",
            "Epoch 2/20\n",
            "60/60 [==============================] - 7s 120ms/step - loss: 2.2999 - accuracy: 0.1424\n",
            "Epoch 3/20\n",
            "60/60 [==============================] - 7s 120ms/step - loss: 2.2776 - accuracy: 0.1588\n",
            "Epoch 4/20\n",
            "60/60 [==============================] - 7s 120ms/step - loss: 2.2585 - accuracy: 0.1843\n",
            "Epoch 5/20\n",
            "60/60 [==============================] - 7s 120ms/step - loss: 2.2413 - accuracy: 0.2051\n",
            "Epoch 6/20\n",
            "60/60 [==============================] - 8s 129ms/step - loss: 2.2224 - accuracy: 0.2286\n",
            "Epoch 7/20\n",
            "60/60 [==============================] - 7s 123ms/step - loss: 2.2055 - accuracy: 0.2474\n",
            "Epoch 8/20\n",
            "60/60 [==============================] - 7s 119ms/step - loss: 2.1904 - accuracy: 0.2677\n",
            "Epoch 9/20\n",
            "60/60 [==============================] - 7s 120ms/step - loss: 2.1760 - accuracy: 0.2897\n",
            "Epoch 10/20\n",
            "60/60 [==============================] - 7s 120ms/step - loss: 2.1608 - accuracy: 0.3084\n",
            "Epoch 11/20\n",
            "60/60 [==============================] - 7s 120ms/step - loss: 2.1474 - accuracy: 0.3289\n",
            "Epoch 12/20\n",
            "60/60 [==============================] - 7s 119ms/step - loss: 2.1343 - accuracy: 0.3546\n",
            "Epoch 13/20\n",
            "60/60 [==============================] - 7s 119ms/step - loss: 2.1199 - accuracy: 0.3767\n",
            "Epoch 14/20\n",
            "60/60 [==============================] - 7s 119ms/step - loss: 2.1080 - accuracy: 0.3953\n",
            "Epoch 15/20\n",
            "60/60 [==============================] - 7s 119ms/step - loss: 2.0952 - accuracy: 0.4132\n",
            "Epoch 16/20\n",
            "60/60 [==============================] - 7s 120ms/step - loss: 2.0825 - accuracy: 0.4339\n",
            "Epoch 17/20\n",
            "60/60 [==============================] - 7s 120ms/step - loss: 2.0714 - accuracy: 0.4464\n",
            "Epoch 18/20\n",
            "60/60 [==============================] - 7s 119ms/step - loss: 2.0606 - accuracy: 0.4584\n",
            "Epoch 19/20\n",
            "60/60 [==============================] - 7s 120ms/step - loss: 2.0483 - accuracy: 0.4740\n",
            "Epoch 20/20\n",
            "60/60 [==============================] - 7s 119ms/step - loss: 2.0388 - accuracy: 0.4815\n"
          ],
          "name": "stdout"
        },
        {
          "output_type": "execute_result",
          "data": {
            "text/plain": [
              "<tensorflow.python.keras.callbacks.History at 0x7fa1d6f324e0>"
            ]
          },
          "metadata": {
            "tags": []
          },
          "execution_count": 72
        }
      ]
    },
    {
      "cell_type": "code",
      "metadata": {
        "id": "n6-I3PFNb8Ie",
        "colab": {
          "base_uri": "https://localhost:8080/"
        },
        "outputId": "d51667a1-5f26-4972-d8a7-dba5e7593434"
      },
      "source": [
        "score=ann_model.evaluate(x_test, y_test, verbose=0)\n",
        "print(\"Test loss:\", score[0])\n",
        "print(\"Test accuracy\", score[1])\n",
        "\n",
        "sig_0001=score[1]\n",
        "sigmoid_accuracy3.append(sig_0001)\n",
        "sigmoid_lr3.append(\"0.0001\")"
      ],
      "execution_count": null,
      "outputs": [
        {
          "output_type": "stream",
          "text": [
            "Test loss: 2.0301222801208496\n",
            "Test accuracy 0.48980000615119934\n"
          ],
          "name": "stdout"
        }
      ]
    },
    {
      "cell_type": "code",
      "metadata": {
        "colab": {
          "base_uri": "https://localhost:8080/"
        },
        "id": "osmkZjboqy7q",
        "outputId": "c2af95c0-934d-44df-e247-1bf833d85a6b"
      },
      "source": [
        "#compiling the model\n",
        "sgd_01=optimizers.SGD(lr=0.01) #lr=learning rate\n",
        "\n",
        "\n",
        "ann_model.compile(optimizer=sgd_01, \n",
        "                   loss=\"categorical_crossentropy\",\n",
        "                   metrics=[\"accuracy\"])\n",
        "\n",
        "#training the model\n",
        "ann_model.fit(x_train, y_train, batch_size=1000, epochs=20, verbose=1)"
      ],
      "execution_count": null,
      "outputs": [
        {
          "output_type": "stream",
          "text": [
            "Epoch 1/20\n",
            "60/60 [==============================] - 8s 121ms/step - loss: 1.8113 - accuracy: 0.5798\n",
            "Epoch 2/20\n",
            "60/60 [==============================] - 7s 119ms/step - loss: 1.2010 - accuracy: 0.6949\n",
            "Epoch 3/20\n",
            "60/60 [==============================] - 7s 119ms/step - loss: 0.9328 - accuracy: 0.7359\n",
            "Epoch 4/20\n",
            "60/60 [==============================] - 7s 120ms/step - loss: 0.8019 - accuracy: 0.7604\n",
            "Epoch 5/20\n",
            "60/60 [==============================] - 7s 119ms/step - loss: 0.7340 - accuracy: 0.7777\n",
            "Epoch 6/20\n",
            "60/60 [==============================] - 7s 118ms/step - loss: 0.6747 - accuracy: 0.7903\n",
            "Epoch 7/20\n",
            "60/60 [==============================] - 7s 119ms/step - loss: 0.6417 - accuracy: 0.7979\n",
            "Epoch 8/20\n",
            "60/60 [==============================] - 7s 120ms/step - loss: 0.6114 - accuracy: 0.8056\n",
            "Epoch 9/20\n",
            "60/60 [==============================] - 7s 120ms/step - loss: 0.5922 - accuracy: 0.8108\n",
            "Epoch 10/20\n",
            "60/60 [==============================] - 7s 120ms/step - loss: 0.5792 - accuracy: 0.8131\n",
            "Epoch 11/20\n",
            "60/60 [==============================] - 7s 121ms/step - loss: 0.5597 - accuracy: 0.8153\n",
            "Epoch 12/20\n",
            "60/60 [==============================] - 7s 122ms/step - loss: 0.5500 - accuracy: 0.8178\n",
            "Epoch 13/20\n",
            "60/60 [==============================] - 7s 120ms/step - loss: 0.5348 - accuracy: 0.8228\n",
            "Epoch 14/20\n",
            "60/60 [==============================] - 7s 121ms/step - loss: 0.5280 - accuracy: 0.8222\n",
            "Epoch 15/20\n",
            "60/60 [==============================] - 7s 121ms/step - loss: 0.5094 - accuracy: 0.8301\n",
            "Epoch 16/20\n",
            "60/60 [==============================] - 7s 121ms/step - loss: 0.5089 - accuracy: 0.8295\n",
            "Epoch 17/20\n",
            "60/60 [==============================] - 7s 120ms/step - loss: 0.5063 - accuracy: 0.8289\n",
            "Epoch 18/20\n",
            "60/60 [==============================] - 7s 120ms/step - loss: 0.4939 - accuracy: 0.8322\n",
            "Epoch 19/20\n",
            "60/60 [==============================] - 7s 120ms/step - loss: 0.4932 - accuracy: 0.8322\n",
            "Epoch 20/20\n",
            "60/60 [==============================] - 7s 121ms/step - loss: 0.4874 - accuracy: 0.8343\n"
          ],
          "name": "stdout"
        },
        {
          "output_type": "execute_result",
          "data": {
            "text/plain": [
              "<tensorflow.python.keras.callbacks.History at 0x7fa1d664c198>"
            ]
          },
          "metadata": {
            "tags": []
          },
          "execution_count": 74
        }
      ]
    },
    {
      "cell_type": "code",
      "metadata": {
        "colab": {
          "base_uri": "https://localhost:8080/"
        },
        "id": "gC9maueIqzRU",
        "outputId": "f853546f-6b0d-43cd-b57a-6c37f4cda48b"
      },
      "source": [
        "score=ann_model.evaluate(x_test, y_test, verbose=0)\n",
        "print(\"Test loss:\", score[0])\n",
        "print(\"Test accuracy\", score[1])\n",
        "\n",
        "sig_01=score[1]\n",
        "sigmoid_accuracy3.append(sig_01)\n",
        "sigmoid_lr3.append(\"0.01\")"
      ],
      "execution_count": null,
      "outputs": [
        {
          "output_type": "stream",
          "text": [
            "Test loss: 0.5105912089347839\n",
            "Test accuracy 0.8227999806404114\n"
          ],
          "name": "stdout"
        }
      ]
    },
    {
      "cell_type": "code",
      "metadata": {
        "colab": {
          "base_uri": "https://localhost:8080/"
        },
        "id": "jt13TsgDqz7I",
        "outputId": "def64a2a-9dc5-493c-cca9-b8ac69bb62cb"
      },
      "source": [
        "#compiling the model\n",
        "sgd_1=optimizers.SGD(lr=1) #lr=learning rate\n",
        "\n",
        "\n",
        "ann_model.compile(optimizer=sgd_1, \n",
        "                   loss=\"categorical_crossentropy\",\n",
        "                   metrics=[\"accuracy\"])\n",
        "\n",
        "#training the model\n",
        "ann_model.fit(x_train, y_train, batch_size=1000, epochs=20, verbose=1)"
      ],
      "execution_count": null,
      "outputs": [
        {
          "output_type": "stream",
          "text": [
            "Epoch 1/20\n",
            "60/60 [==============================] - 7s 119ms/step - loss: nan - accuracy: 0.1002\n",
            "Epoch 2/20\n",
            "60/60 [==============================] - 7s 120ms/step - loss: nan - accuracy: 0.1012\n",
            "Epoch 3/20\n",
            "60/60 [==============================] - 7s 120ms/step - loss: nan - accuracy: 0.1006\n",
            "Epoch 4/20\n",
            "60/60 [==============================] - 7s 119ms/step - loss: nan - accuracy: 0.1016\n",
            "Epoch 5/20\n",
            "60/60 [==============================] - 7s 120ms/step - loss: nan - accuracy: 0.1009\n",
            "Epoch 6/20\n",
            "60/60 [==============================] - 7s 119ms/step - loss: nan - accuracy: 0.0997\n",
            "Epoch 7/20\n",
            "60/60 [==============================] - 7s 120ms/step - loss: nan - accuracy: 0.1009\n",
            "Epoch 8/20\n",
            "60/60 [==============================] - 7s 119ms/step - loss: nan - accuracy: 0.1004\n",
            "Epoch 9/20\n",
            "60/60 [==============================] - 7s 120ms/step - loss: nan - accuracy: 0.0994\n",
            "Epoch 10/20\n",
            "60/60 [==============================] - 7s 120ms/step - loss: nan - accuracy: 0.1007\n",
            "Epoch 11/20\n",
            "60/60 [==============================] - 7s 120ms/step - loss: nan - accuracy: 0.0988\n",
            "Epoch 12/20\n",
            "60/60 [==============================] - 7s 119ms/step - loss: nan - accuracy: 0.0999\n",
            "Epoch 13/20\n",
            "60/60 [==============================] - 7s 121ms/step - loss: nan - accuracy: 0.1002\n",
            "Epoch 14/20\n",
            "60/60 [==============================] - 7s 120ms/step - loss: nan - accuracy: 0.1002\n",
            "Epoch 15/20\n",
            "60/60 [==============================] - 7s 120ms/step - loss: nan - accuracy: 0.1003\n",
            "Epoch 16/20\n",
            "60/60 [==============================] - 7s 120ms/step - loss: nan - accuracy: 0.0995\n",
            "Epoch 17/20\n",
            "60/60 [==============================] - 7s 119ms/step - loss: nan - accuracy: 0.1013\n",
            "Epoch 18/20\n",
            "60/60 [==============================] - 7s 120ms/step - loss: nan - accuracy: 0.0990\n",
            "Epoch 19/20\n",
            "60/60 [==============================] - 7s 119ms/step - loss: nan - accuracy: 0.1001\n",
            "Epoch 20/20\n",
            "60/60 [==============================] - 7s 119ms/step - loss: nan - accuracy: 0.0987\n"
          ],
          "name": "stdout"
        },
        {
          "output_type": "execute_result",
          "data": {
            "text/plain": [
              "<tensorflow.python.keras.callbacks.History at 0x7fa1d4c54828>"
            ]
          },
          "metadata": {
            "tags": []
          },
          "execution_count": 77
        }
      ]
    },
    {
      "cell_type": "code",
      "metadata": {
        "colab": {
          "base_uri": "https://localhost:8080/"
        },
        "id": "XlIRFYhmq0Or",
        "outputId": "d783cf58-e168-40e9-bc0f-bdec103a4d0d"
      },
      "source": [
        "score=ann_model.evaluate(x_test, y_test, verbose=0)\n",
        "print(\"Test loss:\", score[0])\n",
        "print(\"Test accuracy\", score[1])\n",
        "\n",
        "sig_1=score[1]\n",
        "sigmoid_accuracy3.append(sig_1)\n",
        "sigmoid_lr3.append(\"1\")"
      ],
      "execution_count": null,
      "outputs": [
        {
          "output_type": "stream",
          "text": [
            "Test loss: nan\n",
            "Test accuracy 0.10000000149011612\n"
          ],
          "name": "stdout"
        }
      ]
    },
    {
      "cell_type": "code",
      "metadata": {
        "colab": {
          "base_uri": "https://localhost:8080/"
        },
        "id": "W2veWMXes6Tt",
        "outputId": "f325be24-4790-4be8-bb03-e92df59795da"
      },
      "source": [
        "#for eligibility, rounding silhouette scores to 3 decimal places\n",
        "sm_accuracy_rounded = [round(x,3) for x in sigmoid_accuracy3] \n",
        "sm_accuracy_rounded"
      ],
      "execution_count": null,
      "outputs": [
        {
          "output_type": "execute_result",
          "data": {
            "text/plain": [
              "[0.49, 0.823, 0.1]"
            ]
          },
          "metadata": {
            "tags": []
          },
          "execution_count": 80
        }
      ]
    },
    {
      "cell_type": "code",
      "metadata": {
        "colab": {
          "base_uri": "https://localhost:8080/",
          "height": 519
        },
        "id": "Nv2VIerys6nL",
        "outputId": "a9c8e8c3-d2f6-4de7-b828-44076f0d6bc4"
      },
      "source": [
        "#using bar graph to display the accuracy scores \n",
        "\n",
        "\n",
        "plt.figure(figsize=(12,8))\n",
        "sns.set_style(\"white\")\n",
        "\n",
        "accuracy_scores=sm_accuracy_rounded\n",
        "\n",
        "plt.bar(sigmoid_lr3,accuracy_scores, color='red')\n",
        "\n",
        "#labeling each bar with their cv score value. \n",
        "for i in range(len(accuracy_scores)):\n",
        "    plt.annotate(str(accuracy_scores[i]), xy=(sigmoid_lr3[i],accuracy_scores[i]), ha='center', \n",
        "                 fontsize=14,fontweight='normal', color='black') #va='bottom')\n",
        "    \n",
        "\n",
        "    \n",
        "\n",
        "plt.title(\"Accuracy Scores of varying learning rates using 1000 batch_size, 4 layers, last activation function sigmoid\", fontsize=12,weight='heavy')\n",
        "plt.xlabel('Learning Rate Value', fontsize=12, weight='heavy')\n",
        "plt.ylabel('Accuracy Scores', fontsize=12, weight='heavy')\n",
        "\n",
        "plt.xticks(rotation=0, horizontalalignment='right', \n",
        "           weight='normal', fontsize=12)\n",
        "plt.yticks(weight='normal', fontsize=12)\n",
        "\n",
        "plt.ylim(top=1) #setting y-axis limit value \n",
        "\n",
        "\n",
        "plt.show()"
      ],
      "execution_count": null,
      "outputs": [
        {
          "output_type": "display_data",
          "data": {
            "image/png": "[encoded data removed]",
            "text/plain": [
              "<Figure size 864x576 with 1 Axes>"
            ]
          },
          "metadata": {
            "tags": []
          }
        }
      ]
    },
    {
      "cell_type": "markdown",
      "metadata": {
        "id": "w1y6bgTArJRO"
      },
      "source": [
        "# Last Activation Function=\"Sigmoid\"\n",
        "# batch_size=500\n",
        "# 4 total layers "
      ]
    },
    {
      "cell_type": "code",
      "metadata": {
        "id": "KUxbY_UPvxBL"
      },
      "source": [
        "sigmoid_accuracy4=[]\n",
        "sigmoid_lr4=[]"
      ],
      "execution_count": null,
      "outputs": []
    },
    {
      "cell_type": "code",
      "metadata": {
        "id": "VeUUxrr3b8Pn"
      },
      "source": [
        "#defining ann model\n",
        "ann_model=Sequential()\n",
        "\n",
        "\n",
        "#first layer\n",
        "ann_model.add(Dense(1024, input_shape=(784, ), activation=\"relu\"))\n",
        "\n",
        "#second layer\n",
        "ann_model.add(Dense(512, activation=\"relu\"))\n",
        "\n",
        "#third layer\n",
        "ann_model.add(Dense(64, activation=\"relu\"))\n",
        "\n",
        "#last layer; output layer.  \n",
        "#using 10 because there are 10 labels total\n",
        "ann_model.add(Dense(10, activation=\"sigmoid\"))"
      ],
      "execution_count": null,
      "outputs": []
    },
    {
      "cell_type": "code",
      "metadata": {
        "id": "RgjGZ91Pb8WW",
        "colab": {
          "base_uri": "https://localhost:8080/"
        },
        "outputId": "d99beb4e-968d-4c62-a4f1-6e8361719684"
      },
      "source": [
        "#compiling the model\n",
        "sgd_0001=optimizers.SGD(lr=0.0001) #lr=learning rate\n",
        "\n",
        "\n",
        "ann_model.compile(optimizer=sgd_0001, \n",
        "                   loss=\"categorical_crossentropy\",\n",
        "                   metrics=[\"accuracy\"])\n",
        "\n",
        "#training the model\n",
        "ann_model.fit(x_train, y_train, batch_size=500, epochs=20, verbose=1)"
      ],
      "execution_count": null,
      "outputs": [
        {
          "output_type": "stream",
          "text": [
            "Epoch 1/20\n",
            "120/120 [==============================] - 8s 64ms/step - loss: 2.3365 - accuracy: 0.1103\n",
            "Epoch 2/20\n",
            "120/120 [==============================] - 8s 65ms/step - loss: 2.3120 - accuracy: 0.1283\n",
            "Epoch 3/20\n",
            "120/120 [==============================] - 8s 64ms/step - loss: 2.2889 - accuracy: 0.1560\n",
            "Epoch 4/20\n",
            "120/120 [==============================] - 8s 65ms/step - loss: 2.2666 - accuracy: 0.1875\n",
            "Epoch 5/20\n",
            "120/120 [==============================] - 8s 64ms/step - loss: 2.2434 - accuracy: 0.2261\n",
            "Epoch 6/20\n",
            "120/120 [==============================] - 8s 64ms/step - loss: 2.2192 - accuracy: 0.2790\n",
            "Epoch 7/20\n",
            "120/120 [==============================] - 8s 65ms/step - loss: 2.1971 - accuracy: 0.3217\n",
            "Epoch 8/20\n",
            "120/120 [==============================] - 8s 64ms/step - loss: 2.1731 - accuracy: 0.3563\n",
            "Epoch 9/20\n",
            "120/120 [==============================] - 8s 65ms/step - loss: 2.1522 - accuracy: 0.3720\n",
            "Epoch 10/20\n",
            "120/120 [==============================] - 8s 65ms/step - loss: 2.1287 - accuracy: 0.3891\n",
            "Epoch 11/20\n",
            "120/120 [==============================] - 8s 65ms/step - loss: 2.1083 - accuracy: 0.3944\n",
            "Epoch 12/20\n",
            "120/120 [==============================] - 8s 65ms/step - loss: 2.0876 - accuracy: 0.4006\n",
            "Epoch 13/20\n",
            "120/120 [==============================] - 8s 64ms/step - loss: 2.0663 - accuracy: 0.4071\n",
            "Epoch 14/20\n",
            "120/120 [==============================] - 8s 65ms/step - loss: 2.0489 - accuracy: 0.4104\n",
            "Epoch 15/20\n",
            "120/120 [==============================] - 8s 64ms/step - loss: 2.0273 - accuracy: 0.4180\n",
            "Epoch 16/20\n",
            "120/120 [==============================] - 8s 64ms/step - loss: 2.0084 - accuracy: 0.4206\n",
            "Epoch 17/20\n",
            "120/120 [==============================] - 8s 64ms/step - loss: 1.9893 - accuracy: 0.4300\n",
            "Epoch 18/20\n",
            "120/120 [==============================] - 8s 65ms/step - loss: 1.9724 - accuracy: 0.4362\n",
            "Epoch 19/20\n",
            "120/120 [==============================] - 8s 65ms/step - loss: 1.9542 - accuracy: 0.4427\n",
            "Epoch 20/20\n",
            "120/120 [==============================] - 8s 65ms/step - loss: 1.9343 - accuracy: 0.4519\n"
          ],
          "name": "stdout"
        },
        {
          "output_type": "execute_result",
          "data": {
            "text/plain": [
              "<tensorflow.python.keras.callbacks.History at 0x7fa1d1a3b208>"
            ]
          },
          "metadata": {
            "tags": []
          },
          "execution_count": 85
        }
      ]
    },
    {
      "cell_type": "code",
      "metadata": {
        "id": "ijoBg2Qvb8dr",
        "colab": {
          "base_uri": "https://localhost:8080/"
        },
        "outputId": "6482b233-ea9f-45b9-9159-ebb39ef9ac48"
      },
      "source": [
        "score=ann_model.evaluate(x_test, y_test, verbose=0)\n",
        "print(\"Test loss:\", score[0])\n",
        "print(\"Test accuracy\", score[1])\n",
        "\n",
        "sig_0001=score[1]\n",
        "sigmoid_accuracy4.append(sig_0001)\n",
        "sigmoid_lr4.append(\"0.0001\")"
      ],
      "execution_count": null,
      "outputs": [
        {
          "output_type": "stream",
          "text": [
            "Test loss: 1.923804521560669\n",
            "Test accuracy 0.4611000120639801\n"
          ],
          "name": "stdout"
        }
      ]
    },
    {
      "cell_type": "code",
      "metadata": {
        "id": "JfTUpj-vb82-",
        "colab": {
          "base_uri": "https://localhost:8080/"
        },
        "outputId": "27f1a954-6abb-4af5-d115-b43cf5bf2501"
      },
      "source": [
        "#compiling the model\n",
        "sgd_01=optimizers.SGD(lr=0.01) #lr=learning rate\n",
        "\n",
        "\n",
        "ann_model.compile(optimizer=sgd_01, \n",
        "                   loss=\"categorical_crossentropy\",\n",
        "                   metrics=[\"accuracy\"])\n",
        "\n",
        "#training the model\n",
        "ann_model.fit(x_train, y_train, batch_size=500, epochs=20, verbose=1)"
      ],
      "execution_count": null,
      "outputs": [
        {
          "output_type": "stream",
          "text": [
            "Epoch 1/20\n",
            "120/120 [==============================] - 8s 64ms/step - loss: 1.5722 - accuracy: 0.5668\n",
            "Epoch 2/20\n",
            "120/120 [==============================] - 8s 65ms/step - loss: 0.9207 - accuracy: 0.7035\n",
            "Epoch 3/20\n",
            "120/120 [==============================] - 8s 64ms/step - loss: 0.7412 - accuracy: 0.7584\n",
            "Epoch 4/20\n",
            "120/120 [==============================] - 8s 64ms/step - loss: 0.6649 - accuracy: 0.7819\n",
            "Epoch 5/20\n",
            "120/120 [==============================] - 8s 64ms/step - loss: 0.6147 - accuracy: 0.7967\n",
            "Epoch 6/20\n",
            "120/120 [==============================] - 8s 65ms/step - loss: 0.5754 - accuracy: 0.8095\n",
            "Epoch 7/20\n",
            "120/120 [==============================] - 8s 64ms/step - loss: 0.5517 - accuracy: 0.8151\n",
            "Epoch 8/20\n",
            "120/120 [==============================] - 8s 64ms/step - loss: 0.5284 - accuracy: 0.8235\n",
            "Epoch 9/20\n",
            "120/120 [==============================] - 8s 64ms/step - loss: 0.5072 - accuracy: 0.8288\n",
            "Epoch 10/20\n",
            "120/120 [==============================] - 8s 64ms/step - loss: 0.5022 - accuracy: 0.8296\n",
            "Epoch 11/20\n",
            "120/120 [==============================] - 8s 64ms/step - loss: 0.4861 - accuracy: 0.8340\n",
            "Epoch 12/20\n",
            "120/120 [==============================] - 8s 64ms/step - loss: 0.4746 - accuracy: 0.8371\n",
            "Epoch 13/20\n",
            "120/120 [==============================] - 8s 65ms/step - loss: 0.4762 - accuracy: 0.8354\n",
            "Epoch 14/20\n",
            "120/120 [==============================] - 8s 64ms/step - loss: 0.4547 - accuracy: 0.8421\n",
            "Epoch 15/20\n",
            "120/120 [==============================] - 8s 64ms/step - loss: 0.4571 - accuracy: 0.8415\n",
            "Epoch 16/20\n",
            "120/120 [==============================] - 8s 64ms/step - loss: 0.4514 - accuracy: 0.8450\n",
            "Epoch 17/20\n",
            "120/120 [==============================] - 8s 65ms/step - loss: 0.4485 - accuracy: 0.8433\n",
            "Epoch 18/20\n",
            "120/120 [==============================] - 8s 67ms/step - loss: 0.4456 - accuracy: 0.8467\n",
            "Epoch 19/20\n",
            "120/120 [==============================] - 8s 66ms/step - loss: 0.4368 - accuracy: 0.8485\n",
            "Epoch 20/20\n",
            "120/120 [==============================] - 8s 66ms/step - loss: 0.4371 - accuracy: 0.8463\n"
          ],
          "name": "stdout"
        },
        {
          "output_type": "execute_result",
          "data": {
            "text/plain": [
              "<tensorflow.python.keras.callbacks.History at 0x7fa1d08d2518>"
            ]
          },
          "metadata": {
            "tags": []
          },
          "execution_count": 87
        }
      ]
    },
    {
      "cell_type": "code",
      "metadata": {
        "id": "FoLOhcpwb9AV",
        "colab": {
          "base_uri": "https://localhost:8080/"
        },
        "outputId": "64afbabc-6b17-4651-b69c-4e2dc59463ef"
      },
      "source": [
        "score=ann_model.evaluate(x_test, y_test, verbose=0)\n",
        "print(\"Test loss:\", score[0])\n",
        "print(\"Test accuracy\", score[1])\n",
        "\n",
        "sig_01=score[1]\n",
        "sigmoid_accuracy4.append(sig_01)\n",
        "sigmoid_lr4.append(\"0.01\")"
      ],
      "execution_count": null,
      "outputs": [
        {
          "output_type": "stream",
          "text": [
            "Test loss: 0.4589643180370331\n",
            "Test accuracy 0.8393999934196472\n"
          ],
          "name": "stdout"
        }
      ]
    },
    {
      "cell_type": "code",
      "metadata": {
        "id": "J_BTsH0cb9Ig",
        "colab": {
          "base_uri": "https://localhost:8080/"
        },
        "outputId": "ec88f3ba-2048-4a27-980a-25d9ce00bc5a"
      },
      "source": [
        "#compiling the model\n",
        "sgd_1=optimizers.SGD(lr=1) #lr=learning rate\n",
        "\n",
        "\n",
        "ann_model.compile(optimizer=sgd_1, \n",
        "                   loss=\"categorical_crossentropy\",\n",
        "                   metrics=[\"accuracy\"])\n",
        "\n",
        "#training the model\n",
        "ann_model.fit(x_train, y_train, batch_size=500, epochs=20, verbose=1)"
      ],
      "execution_count": null,
      "outputs": [
        {
          "output_type": "stream",
          "text": [
            "Epoch 1/20\n",
            "120/120 [==============================] - 8s 65ms/step - loss: nan - accuracy: 0.1417\n",
            "Epoch 2/20\n",
            "120/120 [==============================] - 8s 66ms/step - loss: nan - accuracy: 0.0982\n",
            "Epoch 3/20\n",
            "120/120 [==============================] - 8s 65ms/step - loss: nan - accuracy: 0.1001\n",
            "Epoch 4/20\n",
            "120/120 [==============================] - 8s 64ms/step - loss: nan - accuracy: 0.1009\n",
            "Epoch 5/20\n",
            "120/120 [==============================] - 8s 64ms/step - loss: nan - accuracy: 0.0983\n",
            "Epoch 6/20\n",
            "120/120 [==============================] - 8s 65ms/step - loss: nan - accuracy: 0.0989\n",
            "Epoch 7/20\n",
            "120/120 [==============================] - 8s 64ms/step - loss: nan - accuracy: 0.0994\n",
            "Epoch 8/20\n",
            "120/120 [==============================] - 8s 65ms/step - loss: nan - accuracy: 0.0999\n",
            "Epoch 9/20\n",
            "120/120 [==============================] - 8s 65ms/step - loss: nan - accuracy: 0.0992\n",
            "Epoch 10/20\n",
            "120/120 [==============================] - 8s 66ms/step - loss: nan - accuracy: 0.1022\n",
            "Epoch 11/20\n",
            "120/120 [==============================] - 8s 65ms/step - loss: nan - accuracy: 0.0994\n",
            "Epoch 12/20\n",
            "120/120 [==============================] - 8s 64ms/step - loss: nan - accuracy: 0.1008\n",
            "Epoch 13/20\n",
            "120/120 [==============================] - 8s 64ms/step - loss: nan - accuracy: 0.0981\n",
            "Epoch 14/20\n",
            "120/120 [==============================] - 8s 64ms/step - loss: nan - accuracy: 0.1008\n",
            "Epoch 15/20\n",
            "120/120 [==============================] - 8s 64ms/step - loss: nan - accuracy: 0.1011\n",
            "Epoch 16/20\n",
            "120/120 [==============================] - 8s 65ms/step - loss: nan - accuracy: 0.0982\n",
            "Epoch 17/20\n",
            "120/120 [==============================] - 8s 65ms/step - loss: nan - accuracy: 0.1004\n",
            "Epoch 18/20\n",
            "120/120 [==============================] - 8s 66ms/step - loss: nan - accuracy: 0.1014\n",
            "Epoch 19/20\n",
            "120/120 [==============================] - 8s 65ms/step - loss: nan - accuracy: 0.1009\n",
            "Epoch 20/20\n",
            "120/120 [==============================] - 8s 64ms/step - loss: nan - accuracy: 0.0983\n"
          ],
          "name": "stdout"
        },
        {
          "output_type": "execute_result",
          "data": {
            "text/plain": [
              "<tensorflow.python.keras.callbacks.History at 0x7fa1de628278>"
            ]
          },
          "metadata": {
            "tags": []
          },
          "execution_count": 89
        }
      ]
    },
    {
      "cell_type": "code",
      "metadata": {
        "id": "JoO_pLkSb9RP",
        "colab": {
          "base_uri": "https://localhost:8080/"
        },
        "outputId": "de1dfe29-797a-4263-b900-0228b4701fcb"
      },
      "source": [
        "score=ann_model.evaluate(x_test, y_test, verbose=0)\n",
        "print(\"Test loss:\", score[0])\n",
        "print(\"Test accuracy\", score[1])\n",
        "\n",
        "sig_1=score[1]\n",
        "sigmoid_accuracy4.append(sig_1)\n",
        "sigmoid_lr4.append(\"1\")"
      ],
      "execution_count": null,
      "outputs": [
        {
          "output_type": "stream",
          "text": [
            "Test loss: nan\n",
            "Test accuracy 0.10000000149011612\n"
          ],
          "name": "stdout"
        }
      ]
    },
    {
      "cell_type": "code",
      "metadata": {
        "colab": {
          "base_uri": "https://localhost:8080/"
        },
        "id": "k-UWJf_NtFME",
        "outputId": "d1120897-d280-4a53-ccc9-1ec386625dd7"
      },
      "source": [
        "#for eligibility, rounding silhouette scores to 3 decimal places\n",
        "sm_accuracy_rounded = [round(x,3) for x in sigmoid_accuracy4] \n",
        "sm_accuracy_rounded"
      ],
      "execution_count": null,
      "outputs": [
        {
          "output_type": "execute_result",
          "data": {
            "text/plain": [
              "[0.461, 0.839, 0.1]"
            ]
          },
          "metadata": {
            "tags": []
          },
          "execution_count": 91
        }
      ]
    },
    {
      "cell_type": "code",
      "metadata": {
        "colab": {
          "base_uri": "https://localhost:8080/",
          "height": 519
        },
        "id": "Tjoy5IPLtFXd",
        "outputId": "daf3f4a8-a80b-4756-ba2d-16d45e8c8f81"
      },
      "source": [
        "#using bar graph to display the accuracy scores \n",
        "\n",
        "\n",
        "plt.figure(figsize=(12,8))\n",
        "sns.set_style(\"white\")\n",
        "\n",
        "accuracy_scores=sm_accuracy_rounded\n",
        "\n",
        "plt.bar(sigmoid_lr4,accuracy_scores, color='red')\n",
        "\n",
        "#labeling each bar with their cv score value. \n",
        "for i in range(len(accuracy_scores)):\n",
        "    plt.annotate(str(accuracy_scores[i]), xy=(sigmoid_lr4[i],accuracy_scores[i]), ha='center', \n",
        "                 fontsize=14,fontweight='normal', color='black') #va='bottom')\n",
        "    \n",
        "\n",
        "    \n",
        "\n",
        "plt.title(\"Accuracy Scores of varying learning rates using 500 batch_siz, 4 layers, last activation function sigmoid\", fontsize=12,weight='heavy')\n",
        "plt.xlabel('Learning Rate Value', fontsize=12, weight='heavy')\n",
        "plt.ylabel('Accuracy Scores', fontsize=12, weight='heavy')\n",
        "\n",
        "plt.xticks(rotation=0, horizontalalignment='right', \n",
        "           weight='normal', fontsize=12)\n",
        "plt.yticks(weight='normal', fontsize=12)\n",
        "\n",
        "plt.ylim(top=1) #setting y-axis limit value \n",
        "\n",
        "\n",
        "plt.show()"
      ],
      "execution_count": null,
      "outputs": [
        {
          "output_type": "display_data",
          "data": {
            "image/png": "[encoded data removed]",
            "text/plain": [
              "<Figure size 864x576 with 1 Axes>"
            ]
          },
          "metadata": {
            "tags": []
          }
        }
      ]
    },
    {
      "cell_type": "markdown",
      "metadata": {
        "id": "K9JsHUT5zxol"
      },
      "source": [
        "<h1><font color=\"red\">4. Compare your models' training scores and interpret your results.</h1></font color>\n",
        "\n",
        "\n",
        "<h1><font color=\"red\">5. Evaluate how your models perform on your test set. Compare the results of your models.</h1></font color>\n",
        "\n",
        "\n",
        "## Using the activation functions reLu for the hidden layers and sigmoid as the last activation function had the best performing model using 0.01 learning rate, 500 batch_size, and 7 layers because this model had the highest test accuracy score of 0.841 and its training score having a close accuracy score. This model performed better than using learning rates 0.0001 or 1.\n",
        "\n",
        "**0.01 learning rate with 7 layers**\n",
        "* 1000 batch size had a 0.818 test accuracy score\n",
        "* 500 batch size had a 0.841 test accuracy score\n",
        "\n",
        "**0.01 learning rate with 4 layers**\n",
        "* 1000 batch size had a 0.823 test accuracy score\n",
        "* 500 batch size had a 0.839 test accuracy score"
      ]
    },
    {
      "cell_type": "code",
      "metadata": {
        "id": "rE2dybxB1PnH"
      },
      "source": [
        ""
      ],
      "execution_count": null,
      "outputs": []
    }
  ]
}